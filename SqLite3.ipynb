{
 "cells": [
  {
   "cell_type": "code",
   "execution_count": 1,
   "metadata": {},
   "outputs": [],
   "source": [
    "#Sqlite é uma bibliotec que implementa um banco de dados Sql Embutido\n",
    "import sqlite3"
   ]
  },
  {
   "cell_type": "code",
   "execution_count": 3,
   "metadata": {},
   "outputs": [
    {
     "name": "stdout",
     "output_type": "stream",
     "text": [
      "<sqlite3.Connection object at 0x7f667efe4300>\n"
     ]
    }
   ],
   "source": [
    "#Criando um banco de dados e estabelecendo uma conexão com ele:\n",
    "\n",
    "conn = sqlite3.connect('Primeiro_banco_de_dados.db')\n",
    "\n",
    "print(conn)"
   ]
  },
  {
   "cell_type": "code",
   "execution_count": 4,
   "metadata": {},
   "outputs": [],
   "source": [
    "#cursos: é atraves dessa variavel que criamos tabelas, informamos registro e fazemos as queries de operaçõe no banco\n",
    "cursor = conn.cursor()"
   ]
  },
  {
   "cell_type": "code",
   "execution_count": null,
   "metadata": {},
   "outputs": [],
   "source": [
    "# importante: nos bancos de dados relacionais salvamos os dados em tabela. Essas tabelas possuem atributos(colunas)\n",
    "# e os registros(linhas). No caso de DB's relacionais nós definimos as tabelas e os tipos de dados previamente.\n",
    "# Lembrem que os bancos não relacionais é diferente, nos não relacionais não precisamos fazer isso.\n",
    "# Create table: Comando usado para criar tabelas\n",
    "# CREATE TABLE nome_tabela(coluna1 tipo, coluna2 tipo, etc);\n",
    "#geralmente usamos letras maiusculas para escrever comandos em linguagem SQL;"
   ]
  },
  {
   "cell_type": "code",
   "execution_count": 5,
   "metadata": {},
   "outputs": [
    {
     "data": {
      "text/plain": [
       "<sqlite3.Cursor at 0x7f667efd77a0>"
      ]
     },
     "execution_count": 5,
     "metadata": {},
     "output_type": "execute_result"
    }
   ],
   "source": [
    "#criando nossa primeira tabela. o metodo execute recebe uma query sql e a executa;\n",
    "cursor.execute(\"CREATE TABLE cadastro_cliente (user_id integer, nome text, idade integer, cidade text, email text)\")"
   ]
  },
  {
   "cell_type": "code",
   "execution_count": 6,
   "metadata": {},
   "outputs": [
    {
     "data": {
      "text/plain": [
       "[('cadastro_cliente',)]"
      ]
     },
     "execution_count": 6,
     "metadata": {},
     "output_type": "execute_result"
    }
   ],
   "source": [
    "# usamos essa query para ver quais as tabelas estão no banco \n",
    "cursor.execute(\"SELECT name from sqlite_master where type = 'table'\")\n",
    "\n",
    "#o comando fetchall é responsavel por apresentar o resultado da query\n",
    "cursor.fetchall()"
   ]
  },
  {
   "cell_type": "code",
   "execution_count": null,
   "metadata": {},
   "outputs": [],
   "source": [
    "Select: usamos esse comando para selecionar dados na tabela"
   ]
  },
  {
   "cell_type": "code",
   "execution_count": 8,
   "metadata": {},
   "outputs": [
    {
     "data": {
      "text/plain": [
       "[]"
      ]
     },
     "execution_count": 8,
     "metadata": {},
     "output_type": "execute_result"
    }
   ],
   "source": [
    "#vamos ver o que temos na tabela\n",
    "# * == ALL: seleciona todos os campos (atributos e colunas da tabela)\n",
    "\n",
    "cursor.execute(\"SELECT * FROM cadastro_cliente\")\n",
    "cursor.fetchall()"
   ]
  },
  {
   "cell_type": "code",
   "execution_count": null,
   "metadata": {},
   "outputs": [],
   "source": [
    "INSERT INTO: Usado para inserir registros em uma tabela\n",
    "\n",
    "os dados do tipo text precisam estar com aspas como as strings que aprendemos aqui em python e tem que ser aspas \n",
    "simples, porque quando estamos usando aspas duplas para a query, se não o python faz confusão."
   ]
  },
  {
   "cell_type": "code",
   "execution_count": 9,
   "metadata": {},
   "outputs": [],
   "source": [
    "#Precisamo dizer em qual tabela e tambem escrever no formato de dados previsto quando criamos a tabela:\n",
    "\n",
    "cursor.execute(\"INSERT INTO cadastro_cliente VALUES(123, 'Maria', 40, 'São Paulo', 'maria@gmail.com')\")\n",
    "conn.commit()\n",
    "\n",
    "#commit é um comando usado no git voce deu um comando ali em cima para alterar a tabela e o commit é pra de fato\n",
    "#guardarmos a informação nno banco"
   ]
  },
  {
   "cell_type": "code",
   "execution_count": 10,
   "metadata": {},
   "outputs": [
    {
     "data": {
      "text/plain": [
       "[(123, 'Maria', 40, 'São Paulo', 'maria@gmail.com')]"
      ]
     },
     "execution_count": 10,
     "metadata": {},
     "output_type": "execute_result"
    }
   ],
   "source": [
    "#verificando se a nossa tabela foi de fato alterada:\n",
    "cursor.execute(\"SELECT * FROM cadastro_cliente\")\n",
    "cursor.fetchall()"
   ]
  },
  {
   "cell_type": "code",
   "execution_count": 11,
   "metadata": {},
   "outputs": [
    {
     "data": {
      "text/plain": [
       "[('Maria', 40)]"
      ]
     },
     "execution_count": 11,
     "metadata": {},
     "output_type": "execute_result"
    }
   ],
   "source": [
    "#selecionando dois campos nome e idade:\n",
    "\n",
    "cursor.execute('SELECT nome, idade FROM cadastro_cliente')\n",
    "cursor.fetchall()"
   ]
  },
  {
   "cell_type": "code",
   "execution_count": 13,
   "metadata": {},
   "outputs": [],
   "source": [
    "#Vamos novamente agora vamos inserir 2 regsitros\n",
    "\n",
    "cursor.execute(\"INSERT INTO cadastro_cliente VALUES(456, 'Pedro', 22, 'Rio de Janeiro', 'pedrinho@gmail.com')\")\n",
    "cursor.execute(\"INSERT INTO cadastro_cliente VALUES(789, 'João', 35, 'São Paulo', 'joaojoao@gmail.com')\")\n",
    "cursor.execute(\"INSERT INTO cadastro_cliente VALUES(901, 'Paulo', 56, 'Belo Horizonte', 'paulo123@gmai.com')\")\n",
    "conn.commit()"
   ]
  },
  {
   "cell_type": "code",
   "execution_count": 14,
   "metadata": {},
   "outputs": [
    {
     "data": {
      "text/plain": [
       "[(123, 'Maria', 40, 'São Paulo', 'maria@gmail.com'),\n",
       " (456, 'Pedro', 22, 'Rio de Janeiro', 'pedrinho@gmail.com'),\n",
       " (789, 'João', 35, 'São Paulo', 'joaojoao@gmail.com'),\n",
       " (901, 'Paulo', 56, 'Belo Horizonte', 'paulo123@gmai.com'),\n",
       " (456, 'Pedro', 22, 'Rio de Janeiro', 'pedrinho@gmail.com'),\n",
       " (789, 'João', 35, 'São Paulo', 'joaojoao@gmail.com'),\n",
       " (901, 'Paulo', 56, 'Belo Horizonte', 'paulo123@gmai.com')]"
      ]
     },
     "execution_count": 14,
     "metadata": {},
     "output_type": "execute_result"
    }
   ],
   "source": [
    "#vizualindo todos os nosso registros\n",
    "\n",
    "cursor.execute(\"SELECT * FROM cadastro_cliente\")\n",
    "cursor.fetchall()"
   ]
  },
  {
   "cell_type": "code",
   "execution_count": null,
   "metadata": {},
   "outputs": [],
   "source": [
    "select distinct: esse comando é usado para retornar apenas valores distintos\n",
    "    SELECT DISTINCT coluna1, coluna2, ... FROM nome_tabela;"
   ]
  },
  {
   "cell_type": "code",
   "execution_count": 15,
   "metadata": {},
   "outputs": [
    {
     "data": {
      "text/plain": [
       "[('São Paulo',),\n",
       " ('Rio de Janeiro',),\n",
       " ('São Paulo',),\n",
       " ('Belo Horizonte',),\n",
       " ('Rio de Janeiro',),\n",
       " ('São Paulo',),\n",
       " ('Belo Horizonte',)]"
      ]
     },
     "execution_count": 15,
     "metadata": {},
     "output_type": "execute_result"
    }
   ],
   "source": [
    "cursor.execute(\"SELECT cidade FROM cadastro_cliente\")\n",
    "cursor.fetchall()"
   ]
  },
  {
   "cell_type": "code",
   "execution_count": 16,
   "metadata": {},
   "outputs": [
    {
     "data": {
      "text/plain": [
       "[('São Paulo',), ('Rio de Janeiro',), ('Belo Horizonte',)]"
      ]
     },
     "execution_count": 16,
     "metadata": {},
     "output_type": "execute_result"
    }
   ],
   "source": [
    "cursor.execute(\"SELECT DISTINCT cidade FROM cadastro_cliente\")\n",
    "cursor.fetchall()"
   ]
  },
  {
   "cell_type": "code",
   "execution_count": null,
   "metadata": {},
   "outputs": [],
   "source": [
    "SELECT WHERE: Seleciona dados de acordo com alguma condição. Usada para filtrar registros\n",
    "    select coluna1, coluna2, ... FROM nome_tabela WHERE condicao_verdadeira"
   ]
  },
  {
   "cell_type": "code",
   "execution_count": 17,
   "metadata": {},
   "outputs": [
    {
     "data": {
      "text/plain": [
       "[(123, 'Maria', 40, 'São Paulo', 'maria@gmail.com')]"
      ]
     },
     "execution_count": 17,
     "metadata": {},
     "output_type": "execute_result"
    }
   ],
   "source": [
    "cursor.execute(\"SELECT * FROM cadastro_cliente WHERE nome = 'Maria'\")\n",
    "cursor.fetchall()"
   ]
  },
  {
   "cell_type": "code",
   "execution_count": null,
   "metadata": {},
   "outputs": [],
   "source": [
    "select order by: seleciona dados ordenando em ordem crescente ou decrescente os dados de acordo com os valores de\n",
    "uma coluna especifica\n",
    "SELECT coluna1, coluna2 ... from nome_tabela ORDER BY coluna1, coluna2... DESC/ASC"
   ]
  },
  {
   "cell_type": "code",
   "execution_count": 18,
   "metadata": {},
   "outputs": [
    {
     "data": {
      "text/plain": [
       "[('Paulo', 56),\n",
       " ('Paulo', 56),\n",
       " ('Maria', 40),\n",
       " ('João', 35),\n",
       " ('João', 35),\n",
       " ('Pedro', 22),\n",
       " ('Pedro', 22)]"
      ]
     },
     "execution_count": 18,
     "metadata": {},
     "output_type": "execute_result"
    }
   ],
   "source": [
    "cursor.execute(\"SELECT nome, idade FROM cadastro_cliente ORDER BY idade DESC\")\n",
    "cursor.fetchall()"
   ]
  },
  {
   "cell_type": "code",
   "execution_count": 19,
   "metadata": {},
   "outputs": [
    {
     "data": {
      "text/plain": [
       "[('Paulo', 56),\n",
       " ('Paulo', 56),\n",
       " ('Maria', 40),\n",
       " ('João', 35),\n",
       " ('João', 35),\n",
       " ('Pedro', 22),\n",
       " ('Pedro', 22)]"
      ]
     },
     "execution_count": 19,
     "metadata": {},
     "output_type": "execute_result"
    }
   ],
   "source": [
    "cursor.execute(\"SELECT nome, idade FROM cadastro_cliente ORDER BY idade DESC, user_id ASC\")\n",
    "cursor.fetchall()"
   ]
  },
  {
   "cell_type": "code",
   "execution_count": null,
   "metadata": {},
   "outputs": [],
   "source": [
    "Selcet group by: seleciona dados agrupados por uma(+ de uma) coluna(s) especifica(s)\n",
    "    \n",
    "    select coluna1, coluna2... from nome_tabela GROUP BY coluna1..."
   ]
  },
  {
   "cell_type": "code",
   "execution_count": 20,
   "metadata": {},
   "outputs": [
    {
     "data": {
      "text/plain": [
       "[(2, 'Belo Horizonte'), (2, 'Rio de Janeiro'), (3, 'São Paulo')]"
      ]
     },
     "execution_count": 20,
     "metadata": {},
     "output_type": "execute_result"
    }
   ],
   "source": [
    "cursor.execute(\"SELECT COUNT(user_id), cidade FROM cadastro_cliente GROUP BY cidade\")\n",
    "cursor.fetchall()"
   ]
  },
  {
   "cell_type": "code",
   "execution_count": 22,
   "metadata": {},
   "outputs": [
    {
     "data": {
      "text/plain": [
       "[(3, 'São Paulo'), (2, 'Rio de Janeiro'), (2, 'Belo Horizonte')]"
      ]
     },
     "execution_count": 22,
     "metadata": {},
     "output_type": "execute_result"
    }
   ],
   "source": [
    "#podemos fazer consultas mais complexas como por exemplo:\n",
    "\n",
    "cursor.execute(\"SELECT COUNT(user_id), cidade FROM cadastro_cliente GROUP BY cidade ORDER BY COUNT(user_id) DESC\")\n",
    "cursor.fetchall()"
   ]
  },
  {
   "cell_type": "code",
   "execution_count": 23,
   "metadata": {},
   "outputs": [
    {
     "data": {
      "text/plain": [
       "<sqlite3.Cursor at 0x7f667efd77a0>"
      ]
     },
     "execution_count": 23,
     "metadata": {},
     "output_type": "execute_result"
    }
   ],
   "source": [
    "#criando outra tabela\n",
    "cursor.execute(\"CREATE TABLE compras_cliente(user_id integer, qtd_produtos integer, \\\n",
    "                valor_compra decimal, local_compra text)\")\n"
   ]
  },
  {
   "cell_type": "code",
   "execution_count": 25,
   "metadata": {},
   "outputs": [],
   "source": [
    "cursor.execute(\"INSERT INTO compras_cliente VALUES(123, 3, 150.70, 'Loja1')\")\n",
    "cursor.execute(\"INSERT INTO compras_cliente VALUES(456, 1, 20.35, 'Loja2')\")\n",
    "cursor.execute(\"INSERT INTO compras_cliente VALUES(789, 6, 437, 'Loja3')\")\n",
    "conn.commit()"
   ]
  },
  {
   "cell_type": "code",
   "execution_count": 29,
   "metadata": {},
   "outputs": [
    {
     "data": {
      "text/plain": [
       "[(123, 3, 150.7, 'Loja1'), (456, 1, 20.35, 'Loja2'), (789, 6, 437, 'Loja3')]"
      ]
     },
     "execution_count": 29,
     "metadata": {},
     "output_type": "execute_result"
    }
   ],
   "source": [
    "cursor.execute(\"SELECT * FROM compras_cliente\")\n",
    "cursor.fetchall()"
   ]
  },
  {
   "cell_type": "code",
   "execution_count": null,
   "metadata": {},
   "outputs": [],
   "source": [
    "SELECT COUNT/AVG/SUM:\n",
    "COUNT: Retorna o numero de valores de uma determinada coluna\n",
    "AVG: Retorna a média dos valores de uma determinada coluna\n",
    "Sum: Retorma a soma dos valores de uma determinada coluna \n",
    "    SELECT COUNT/AVG/SUM(nome_cliente) FROM nome_tabela"
   ]
  },
  {
   "cell_type": "code",
   "execution_count": 30,
   "metadata": {},
   "outputs": [
    {
     "data": {
      "text/plain": [
       "[(3,)]"
      ]
     },
     "execution_count": 30,
     "metadata": {},
     "output_type": "execute_result"
    }
   ],
   "source": [
    "#quantos usuarios fizeram compras\n",
    "cursor.execute(\"SELECT COUNT(user_id) FROM compras_cliente\")\n",
    "cursor.fetchall()"
   ]
  },
  {
   "cell_type": "code",
   "execution_count": 32,
   "metadata": {},
   "outputs": [
    {
     "data": {
      "text/plain": [
       "[(1,)]"
      ]
     },
     "execution_count": 32,
     "metadata": {},
     "output_type": "execute_result"
    }
   ],
   "source": [
    "#quantos usuarios fizeram compras na loja 1\n",
    "cursor.execute(\"SELECT COUNT(user_id) FROM compras_cliente WHERE local_compra == 'Loja1'\")\n",
    "cursor.fetchall()"
   ]
  },
  {
   "cell_type": "code",
   "execution_count": 33,
   "metadata": {},
   "outputs": [
    {
     "data": {
      "text/plain": [
       "[(202.6833333333333,)]"
      ]
     },
     "execution_count": 33,
     "metadata": {},
     "output_type": "execute_result"
    }
   ],
   "source": [
    "#qual foi o valor médio de gasto de cada usuario\n",
    "cursor.execute(\"SELECT AVG(valor_compra) FROM compras_cliente\")\n",
    "cursor.fetchall()"
   ]
  },
  {
   "cell_type": "code",
   "execution_count": 34,
   "metadata": {},
   "outputs": [
    {
     "data": {
      "text/plain": [
       "[(608.05,)]"
      ]
     },
     "execution_count": 34,
     "metadata": {},
     "output_type": "execute_result"
    }
   ],
   "source": [
    "#qual foi o total gasto pelos usuarios\n",
    "\n",
    "cursor.execute(\"SELECT SUM(valor_compra) FROM compras_cliente\")\n",
    "cursor.fetchall()"
   ]
  },
  {
   "cell_type": "code",
   "execution_count": null,
   "metadata": {},
   "outputs": [],
   "source": [
    "#podemos fazer apenas o primeiro join por exemplo, pra ficar mais claro para voçes o que ele faz:"
   ]
  },
  {
   "cell_type": "code",
   "execution_count": 36,
   "metadata": {},
   "outputs": [
    {
     "data": {
      "text/plain": [
       "[(123, 'Maria', 40, 150.7),\n",
       " (456, 'Pedro', 22, 20.35),\n",
       " (789, 'João', 35, 437),\n",
       " (901, 'Paulo', 56, None),\n",
       " (456, 'Pedro', 22, 20.35),\n",
       " (789, 'João', 35, 437),\n",
       " (901, 'Paulo', 56, None)]"
      ]
     },
     "execution_count": 36,
     "metadata": {},
     "output_type": "execute_result"
    }
   ],
   "source": [
    "cursor.execute(\"SELECT cc.user_id, cc.nome, cc.idade, ccli.valor_compra FROM cadastro_cliente as cc LEFT JOIN \\\n",
    "                compras_cliente as ccli ON cc.user_id == ccli.user_id\")\n",
    "cursor.fetchall()"
   ]
  },
  {
   "cell_type": "code",
   "execution_count": 38,
   "metadata": {},
   "outputs": [
    {
     "data": {
      "text/plain": [
       "[(0.0, 'São Paulo'), (0.0, 'Rio de Janeiro'), (0.0, 'Belo Horizonte')]"
      ]
     },
     "execution_count": 38,
     "metadata": {},
     "output_type": "execute_result"
    }
   ],
   "source": [
    "#respomdendo nossa pergunta ali de cima: precisamos primerio pegar todas as cidades, então vamos usar a tabela\n",
    "#cadastro_cliente e cruzar ela com a tabela de compras para termos o gasto dos clientes também\n",
    "\n",
    "#A chave/coluna que relaciona essas tabelas é a coluna user_id:\n",
    "\n",
    "cursor.execute(\"SELECT AVG('valor_compra') as valor_medio, cidade FROM cadastro_cliente\\\n",
    "                LEFT JOIN compras_cliente\\\n",
    "                ON cadastro_cliente.user_id == compras_cliente.user_id\\\n",
    "                GROUP BY cidade\\\n",
    "                ORDER BY valor_medio DESC\")\n",
    "cursor.fetchall()"
   ]
  },
  {
   "cell_type": "code",
   "execution_count": 40,
   "metadata": {},
   "outputs": [
    {
     "data": {
      "text/plain": [
       "[(123, 'Maria', 'São Paulo', 150.7),\n",
       " (456, 'Pedro', 'Rio de Janeiro', 20.35),\n",
       " (789, 'João', 'São Paulo', 437),\n",
       " (456, 'Pedro', 'Rio de Janeiro', 20.35),\n",
       " (789, 'João', 'São Paulo', 437)]"
      ]
     },
     "execution_count": 40,
     "metadata": {},
     "output_type": "execute_result"
    }
   ],
   "source": [
    "#vejam agora a diferença com o inner join:\n",
    "cursor.execute(\"SELECT cc.user_id, cc.nome , cc.cidade,ccli.valor_compra FROM cadastro_cliente as cc INNER JOIN \\\n",
    "                compras_cliente as ccli ON cc.user_id == ccli.user_id\")\n",
    "cursor.fetchall()"
   ]
  },
  {
   "cell_type": "code",
   "execution_count": null,
   "metadata": {},
   "outputs": [],
   "source": []
  }
 ],
 "metadata": {
  "kernelspec": {
   "display_name": "Python 3",
   "language": "python",
   "name": "python3"
  },
  "language_info": {
   "codemirror_mode": {
    "name": "ipython",
    "version": 3
   },
   "file_extension": ".py",
   "mimetype": "text/x-python",
   "name": "python",
   "nbconvert_exporter": "python",
   "pygments_lexer": "ipython3",
   "version": "3.8.5"
  }
 },
 "nbformat": 4,
 "nbformat_minor": 4
}
