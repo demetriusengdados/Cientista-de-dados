{
  "nbformat": 4,
  "nbformat_minor": 0,
  "metadata": {
    "colab": {
      "name": "Numpy (Aula 2).ipynb",
      "provenance": []
    },
    "kernelspec": {
      "name": "python3",
      "display_name": "Python 3"
    }
  },
  "cells": [
    {
      "cell_type": "code",
      "metadata": {
        "id": "E7luNcF9Jb3f"
      },
      "source": [
        "import numpy as np"
      ],
      "execution_count": 2,
      "outputs": []
    },
    {
      "cell_type": "code",
      "metadata": {
        "id": "g-b83N6iLGra",
        "outputId": "ebde7562-c730-4daf-8479-464d5fa8cc8b",
        "colab": {
          "base_uri": "https://localhost:8080/",
          "height": 35
        }
      },
      "source": [
        "np.__version__"
      ],
      "execution_count": 3,
      "outputs": [
        {
          "output_type": "execute_result",
          "data": {
            "application/vnd.google.colaboratory.intrinsic+json": {
              "type": "string"
            },
            "text/plain": [
              "'1.18.5'"
            ]
          },
          "metadata": {
            "tags": []
          },
          "execution_count": 3
        }
      ]
    },
    {
      "cell_type": "code",
      "metadata": {
        "id": "qsnspiALmeZj"
      },
      "source": [
        "# A maneira mais facil de criar um numpy array é primeiramente criar uma lista e depois converter para um array:\n",
        "\n",
        "lista = [9,0,8,6,1]\n",
        "\n",
        "arr = np.array(lista)"
      ],
      "execution_count": 12,
      "outputs": []
    },
    {
      "cell_type": "code",
      "metadata": {
        "id": "awSQtJisLG9z",
        "outputId": "50b896c4-e523-42d2-84d6-e4a435713c5e",
        "colab": {
          "base_uri": "https://localhost:8080/"
        }
      },
      "source": [
        "arr"
      ],
      "execution_count": 13,
      "outputs": [
        {
          "output_type": "execute_result",
          "data": {
            "text/plain": [
              "array([9, 0, 8, 6, 1])"
            ]
          },
          "metadata": {
            "tags": []
          },
          "execution_count": 13
        }
      ]
    },
    {
      "cell_type": "markdown",
      "metadata": {
        "id": "mvy0muEtLjXD"
      },
      "source": [
        "Funções \"matemáticas\": min, max, sum,sqrt, round\n",
        "\n",
        "min: Menor valor do array;\n",
        "\n",
        "max: Maior valor do array;\n",
        "\n",
        "sum: Soma dos valores do array;\n",
        "\n",
        "sqrt: Raiz quadrada do array;\n",
        "\n",
        "round: Arredonda os valores do array;"
      ]
    },
    {
      "cell_type": "code",
      "metadata": {
        "id": "U04X7UygLG7d",
        "outputId": "1602a0dc-2d2c-455f-9a22-e8f3346ac5ce",
        "colab": {
          "base_uri": "https://localhost:8080/"
        }
      },
      "source": [
        "print(\"Array:\", arr)\n",
        "\n",
        "print(\"Valor Minimo:\", np.min(arr))\n",
        "print(\"Valor Máximo:\", np.max(arr))\n",
        "print(\"Soma:\", np.sum(arr))\n",
        "print(\"Raiz Quadrada:\", np.sqrt(arr))\n",
        "print(\"Arredondamento:\", np.round(np.sqrt(arr)))"
      ],
      "execution_count": 14,
      "outputs": [
        {
          "output_type": "stream",
          "text": [
            "Array: [9 0 8 6 1]\n",
            "Valor Minimo: 0\n",
            "Valor Máximo: 9\n",
            "Soma: 24\n",
            "Raiz Quadrada: [3.         0.         2.82842712 2.44948974 1.        ]\n",
            "Arredondamento: [3. 0. 3. 2. 1.]\n"
          ],
          "name": "stdout"
        }
      ]
    },
    {
      "cell_type": "markdown",
      "metadata": {
        "id": "NWiTDgLxM5Mx"
      },
      "source": [
        "Funções Estatistica: mean, std, percentile\n",
        "\n",
        "mean: Média aritmética dos valores do array;\n",
        "\n",
        "std: Desvio padrão dos valores do array;\n",
        "\n",
        "percentile: Retorna o valor do percentil especificado de acordo com os valores do array"
      ]
    },
    {
      "cell_type": "code",
      "metadata": {
        "id": "Ki5yaX53LG5R",
        "outputId": "884f4754-338a-40e5-9a75-16218fc4eae5",
        "colab": {
          "base_uri": "https://localhost:8080/"
        }
      },
      "source": [
        "#Média\n",
        "\n",
        "print(\"Array:\", arr)\n",
        "print('Média:', np.mean(arr))"
      ],
      "execution_count": 15,
      "outputs": [
        {
          "output_type": "stream",
          "text": [
            "Array: [9 0 8 6 1]\n",
            "Média: 4.8\n"
          ],
          "name": "stdout"
        }
      ]
    },
    {
      "cell_type": "code",
      "metadata": {
        "id": "Q-kJyjGtLG2d",
        "outputId": "16c56384-a120-4c37-b9e9-3a636077de8c",
        "colab": {
          "base_uri": "https://localhost:8080/"
        }
      },
      "source": [
        "#STD\n",
        "\n",
        "print(\"Desvio Padrão:\", np.std(arr))"
      ],
      "execution_count": 16,
      "outputs": [
        {
          "output_type": "stream",
          "text": [
            "Desvio Padrão: 3.655133376499413\n"
          ],
          "name": "stdout"
        }
      ]
    },
    {
      "cell_type": "code",
      "metadata": {
        "id": "LlvlDtAULGyj",
        "outputId": "bcf86856-2dbe-4244-db53-1dc83988d825",
        "colab": {
          "base_uri": "https://localhost:8080/"
        }
      },
      "source": [
        "#Percentil 50 == Mediana é o valor que separa a metade maior e a metade menor de uma amostra ordenada\n",
        "\n",
        "print('Percentil 50:', np.percentile(arr,50))"
      ],
      "execution_count": 17,
      "outputs": [
        {
          "output_type": "stream",
          "text": [
            "Percentil 50: 6.0\n"
          ],
          "name": "stdout"
        }
      ]
    },
    {
      "cell_type": "markdown",
      "metadata": {
        "id": "rgfM3WhnO_iq"
      },
      "source": [
        "Concatenando Arrays"
      ]
    },
    {
      "cell_type": "code",
      "metadata": {
        "id": "kM1N9StxO8-f",
        "outputId": "6846af57-6b0f-4a20-9873-5125cc06cec9",
        "colab": {
          "base_uri": "https://localhost:8080/"
        }
      },
      "source": [
        "#Funções utilizadas para \"colar\" dois arrays\n",
        "\n",
        "ar1 = np.arange(10,20,2)\n",
        "ar2 = np.arange(20,30,2)\n",
        "\n",
        "print(ar1)\n",
        "print(ar2)"
      ],
      "execution_count": 18,
      "outputs": [
        {
          "output_type": "stream",
          "text": [
            "[10 12 14 16 18]\n",
            "[20 22 24 26 28]\n"
          ],
          "name": "stdout"
        }
      ]
    },
    {
      "cell_type": "code",
      "metadata": {
        "id": "RDwyfoozO88V",
        "outputId": "6edc0d36-0b80-4efe-f8b7-401d2be36dff",
        "colab": {
          "base_uri": "https://localhost:8080/"
        }
      },
      "source": [
        "# c_ é uma função para concatenar dois arrays == muito utilizado na área de DS para criação de base de dados,\n",
        "# pois geralmente pegamos variáveis de diversas tabelas e nesse caso, podemos concatenar nada para trasnformar\n",
        "# em uma única tabela:\n",
        "\n",
        "#mantém a ordem dos dados:\n",
        "\n",
        "arr_c_ = np.c_[ar1, ar2]\n",
        "\n",
        "print(arr_c_)\n",
        "\n",
        "print(arr_c_.shape)"
      ],
      "execution_count": 20,
      "outputs": [
        {
          "output_type": "stream",
          "text": [
            "[[10 20]\n",
            " [12 22]\n",
            " [14 24]\n",
            " [16 26]\n",
            " [18 28]]\n",
            "(5, 2)\n"
          ],
          "name": "stdout"
        }
      ]
    },
    {
      "cell_type": "code",
      "metadata": {
        "id": "ZAx5j1OVO859",
        "outputId": "eae7d59e-4d3f-45d7-91a2-8342e5e36b94",
        "colab": {
          "base_uri": "https://localhost:8080/"
        }
      },
      "source": [
        "# Concatena dois arrays, unidimensionais na horizontal:\n",
        "\n",
        "arr_concatenate = np.concatenate([ar1, ar2])\n",
        "print(arr_concatenate)\n",
        "\n",
        "print(arr_concatenate.shape)"
      ],
      "execution_count": 21,
      "outputs": [
        {
          "output_type": "stream",
          "text": [
            "[10 12 14 16 18 20 22 24 26 28]\n",
            "(10,)\n"
          ],
          "name": "stdout"
        }
      ]
    },
    {
      "cell_type": "code",
      "metadata": {
        "id": "t1V2dGh0O84B",
        "outputId": "1eb6e64b-b2a5-4063-c75f-5553ad138b17",
        "colab": {
          "base_uri": "https://localhost:8080/"
        }
      },
      "source": [
        "arr1_bdim = np.array([[1,2], [6,4]])\n",
        "arr2_bdim = np.array([[0,8], [3,3]])\n",
        "\n",
        "print(arr1_bdim)\n",
        "print('---------')\n",
        "print(arr2_bdim)\n",
        "\n",
        "# A função v-stack ela opera um vertical stack, ou seja, ela \"cola\" os arrays na vertical:\n",
        "\n",
        "arr_v_stack = np.vstack((arr1_bdim, arr2_bdim))\n",
        "print('-----------')\n",
        "print(arr_v_stack)"
      ],
      "execution_count": 26,
      "outputs": [
        {
          "output_type": "stream",
          "text": [
            "[[1 2]\n",
            " [6 4]]\n",
            "---------\n",
            "[[0 8]\n",
            " [3 3]]\n",
            "-----------\n",
            "[[1 2]\n",
            " [6 4]\n",
            " [0 8]\n",
            " [3 3]]\n"
          ],
          "name": "stdout"
        }
      ]
    },
    {
      "cell_type": "code",
      "metadata": {
        "id": "8MJiAU9KO81S",
        "outputId": "af91f7f6-471f-4221-9690-2000e0600252",
        "colab": {
          "base_uri": "https://localhost:8080/"
        }
      },
      "source": [
        "# A função h-stack ela opera um horizontal stack, ela \"cola\" os arrays na horizontal:\n",
        "arr_h_stack = np.hstack((arr1_bdim, arr2_bdim))\n",
        "\n",
        "print(arr_h_stack)"
      ],
      "execution_count": 28,
      "outputs": [
        {
          "output_type": "stream",
          "text": [
            "[[1 2 0 8]\n",
            " [6 4 3 3]]\n"
          ],
          "name": "stdout"
        }
      ]
    },
    {
      "cell_type": "markdown",
      "metadata": {
        "id": "Ote_XW86TLo6"
      },
      "source": [
        "Função dot\n",
        "\n",
        "Array unidimensional: A função dot faz o produto interno\n",
        "\n",
        "Array bidimensional: A função dot faz multiplicação das matrizes"
      ]
    },
    {
      "cell_type": "code",
      "metadata": {
        "id": "xDmcwhCiO8xL",
        "outputId": "adff02c0-5216-4437-b79b-57fc79826e0b",
        "colab": {
          "base_uri": "https://localhost:8080/"
        }
      },
      "source": [
        "#Quando temos arrays unidimensionais, a função dot performa o produto interno\n",
        "\n",
        "print(ar1)\n",
        "print(ar2)\n",
        "\n",
        "np.dot(ar1,ar2)"
      ],
      "execution_count": 29,
      "outputs": [
        {
          "output_type": "stream",
          "text": [
            "[10 12 14 16 18]\n",
            "[20 22 24 26 28]\n"
          ],
          "name": "stdout"
        },
        {
          "output_type": "execute_result",
          "data": {
            "text/plain": [
              "1720"
            ]
          },
          "metadata": {
            "tags": []
          },
          "execution_count": 29
        }
      ]
    },
    {
      "cell_type": "code",
      "metadata": {
        "id": "_ApMzMtPUfn8",
        "outputId": "0fe590a3-080c-4b1f-a012-1dbebbf78ce4",
        "colab": {
          "base_uri": "https://localhost:8080/"
        }
      },
      "source": [
        "#Quando temos arrays unidimensionais a função dot performa multiplicação de matrizes\n",
        "\n",
        "print(arr1_bdim)\n",
        "print('*********')\n",
        "print(arr2_bdim)\n",
        "\n",
        "np.dot(arr1_bdim,arr2_bdim)"
      ],
      "execution_count": 30,
      "outputs": [
        {
          "output_type": "stream",
          "text": [
            "[[1 2]\n",
            " [6 4]]\n",
            "*********\n",
            "[[0 8]\n",
            " [3 3]]\n"
          ],
          "name": "stdout"
        },
        {
          "output_type": "execute_result",
          "data": {
            "text/plain": [
              "array([[ 6, 14],\n",
              "       [12, 60]])"
            ]
          },
          "metadata": {
            "tags": []
          },
          "execution_count": 30
        }
      ]
    },
    {
      "cell_type": "code",
      "metadata": {
        "id": "OWR9RdY-UgAl",
        "outputId": "6e9a0a84-20cc-4fb7-f16c-b7d54e3d935c",
        "colab": {
          "base_uri": "https://localhost:8080/"
        }
      },
      "source": [
        "#Existe uma diferença de utilizarmos a multiplicação usual:\n",
        "\n",
        "print(arr1_bdim)\n",
        "print('*********')\n",
        "print(arr2_bdim)\n",
        "\n",
        "arr1_bdim*arr2_bdim"
      ],
      "execution_count": 31,
      "outputs": [
        {
          "output_type": "stream",
          "text": [
            "[[1 2]\n",
            " [6 4]]\n",
            "*********\n",
            "[[0 8]\n",
            " [3 3]]\n"
          ],
          "name": "stdout"
        },
        {
          "output_type": "execute_result",
          "data": {
            "text/plain": [
              "array([[ 0, 16],\n",
              "       [18, 12]])"
            ]
          },
          "metadata": {
            "tags": []
          },
          "execution_count": 31
        }
      ]
    },
    {
      "cell_type": "markdown",
      "metadata": {
        "id": "qlSAMRXfVPex"
      },
      "source": [
        "Função T"
      ]
    },
    {
      "cell_type": "code",
      "metadata": {
        "id": "ncxyz8y-Uf-C",
        "outputId": "6e57255d-ce2c-4aeb-a5cb-b96903b570a5",
        "colab": {
          "base_uri": "https://localhost:8080/"
        }
      },
      "source": [
        "#Calcula a transposta da matriz:\n",
        "arr3_dbim = np.arange(10,30,2)\n",
        "\n",
        "print(arr3_dbim)"
      ],
      "execution_count": 32,
      "outputs": [
        {
          "output_type": "stream",
          "text": [
            "[10 12 14 16 18 20 22 24 26 28]\n"
          ],
          "name": "stdout"
        }
      ]
    },
    {
      "cell_type": "code",
      "metadata": {
        "id": "UEQX1CRzUf7T",
        "outputId": "4d7fa3d4-e245-4dff-cc48-0ccf8e083af3",
        "colab": {
          "base_uri": "https://localhost:8080/"
        }
      },
      "source": [
        "arr3_dbim = arr3_dbim.reshape(2,5)\n",
        "\n",
        "print(arr3_dbim)"
      ],
      "execution_count": 33,
      "outputs": [
        {
          "output_type": "stream",
          "text": [
            "[[10 12 14 16 18]\n",
            " [20 22 24 26 28]]\n"
          ],
          "name": "stdout"
        }
      ]
    },
    {
      "cell_type": "code",
      "metadata": {
        "id": "XD9cQ18QUflF",
        "outputId": "e3e2ec8b-0122-4b14-d965-1201862ac734",
        "colab": {
          "base_uri": "https://localhost:8080/"
        }
      },
      "source": [
        "#Transposta de uma matriz: nova matriz onde as linhas da matriz anterior viram colunas:\n",
        "\n",
        "arr3_dbim.T"
      ],
      "execution_count": 34,
      "outputs": [
        {
          "output_type": "execute_result",
          "data": {
            "text/plain": [
              "array([[10, 20],\n",
              "       [12, 22],\n",
              "       [14, 24],\n",
              "       [16, 26],\n",
              "       [18, 28]])"
            ]
          },
          "metadata": {
            "tags": []
          },
          "execution_count": 34
        }
      ]
    }
  ]
}