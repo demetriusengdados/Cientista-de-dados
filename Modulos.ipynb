{
  "nbformat": 4,
  "nbformat_minor": 0,
  "metadata": {
    "colab": {
      "name": "Modulos",
      "provenance": [],
      "collapsed_sections": []
    },
    "kernelspec": {
      "name": "python3",
      "display_name": "Python 3"
    }
  },
  "cells": [
    {
      "cell_type": "code",
      "metadata": {
        "id": "OKecOOYgHrlR"
      },
      "source": [
        "#Pacotes\n",
        "#Pacotes sempre ficam  no inicio da celula ou do codigo. O ideal é colocar todas as importações na primeira\n",
        "#célula do seu codigo"
      ],
      "execution_count": null,
      "outputs": []
    },
    {
      "cell_type": "code",
      "metadata": {
        "id": "MB2t4O_gHyOp"
      },
      "source": [
        "#utilizando pacotes do python desenvolvidos pela comunidade"
      ],
      "execution_count": null,
      "outputs": []
    },
    {
      "cell_type": "code",
      "metadata": {
        "id": "N5WY9GUtH6aS",
        "outputId": "9dfc04bf-b236-4177-e543-b6991d318fee",
        "colab": {
          "base_uri": "https://localhost:8080/",
          "height": 34
        }
      },
      "source": [
        "#import é a forma de \"concetarmos\" o pacote com o nosso codigo\n",
        "import datetime\n",
        "\n",
        "#datetime é uam biblioteca, date é o modulo e today a função\n",
        "datetime.date.today()"
      ],
      "execution_count": null,
      "outputs": [
        {
          "output_type": "execute_result",
          "data": {
            "text/plain": [
              "datetime.date(2020, 10, 22)"
            ]
          },
          "metadata": {
            "tags": []
          },
          "execution_count": 1
        }
      ]
    },
    {
      "cell_type": "code",
      "metadata": {
        "id": "fVgBoNXUIVXL",
        "outputId": "23e510e5-e740-4412-cf04-a81bec2fa5a5",
        "colab": {
          "base_uri": "https://localhost:8080/",
          "height": 34
        }
      },
      "source": [
        "datetime"
      ],
      "execution_count": null,
      "outputs": [
        {
          "output_type": "execute_result",
          "data": {
            "text/plain": [
              "<module 'datetime' from '/usr/lib/python3.6/datetime.py'>"
            ]
          },
          "metadata": {
            "tags": []
          },
          "execution_count": 3
        }
      ]
    },
    {
      "cell_type": "markdown",
      "metadata": {
        "id": "AbehfDpGId--"
      },
      "source": [
        "Veja que o comando acimaa importou todos os modulos que o pacote datetime, provavelmente sem necessidade, pois vamos usar apenas o date"
      ]
    },
    {
      "cell_type": "code",
      "metadata": {
        "id": "bigjaYHFItZy",
        "outputId": "ac8176bb-3047-45bd-87c8-40a35dd91707",
        "colab": {
          "base_uri": "https://localhost:8080/",
          "height": 34
        }
      },
      "source": [
        "#podemos importar um modulo especifico de um pacote\n",
        "\n",
        "from datetime import date\n",
        "\n",
        "date.today()"
      ],
      "execution_count": null,
      "outputs": [
        {
          "output_type": "execute_result",
          "data": {
            "text/plain": [
              "datetime.date(2020, 10, 22)"
            ]
          },
          "metadata": {
            "tags": []
          },
          "execution_count": 4
        }
      ]
    },
    {
      "cell_type": "code",
      "metadata": {
        "id": "JfzNiFEFI5i8",
        "outputId": "20cfc270-801a-44c0-e535-a4fa6d7ae6bb",
        "colab": {
          "base_uri": "https://localhost:8080/",
          "height": 69
        }
      },
      "source": [
        "from math import ceil, sqrt\n",
        "\n",
        "num = int(input('Digite um numero: '))\n",
        "print('A raiz é: ', sqrt(num))\n",
        "print('Arredondando para cima fica: ',math.ceil(math.sqrt(num)))"
      ],
      "execution_count": null,
      "outputs": [
        {
          "output_type": "stream",
          "text": [
            "Digite um numero: 10\n",
            "A raiz é:  3.1622776601683795\n",
            "Arredondando para cima fica:  4\n"
          ],
          "name": "stdout"
        }
      ]
    },
    {
      "cell_type": "code",
      "metadata": {
        "id": "TjUch_LVJzDe"
      },
      "source": [
        "#mais um exemplo que usaremos muito ao longo do curso\n",
        "\n",
        "from matplotlib import pyplot\n",
        "\n",
        "#geralmente importamos da seguint maneira: import matplotlib.pyplot as plt"
      ],
      "execution_count": null,
      "outputs": []
    },
    {
      "cell_type": "code",
      "metadata": {
        "id": "e-5lcsdxLBcL",
        "outputId": "9f057b44-f938-4d29-9e45-bc1ceaa72a9d",
        "colab": {
          "base_uri": "https://localhost:8080/",
          "height": 265
        }
      },
      "source": [
        "pyplot.scatter([1,2,3],[4,5,6])\n",
        "pyplot.show()"
      ],
      "execution_count": null,
      "outputs": [
        {
          "output_type": "display_data",
          "data": {
            "image/png": "[encoded data removed]",
            "text/plain": [
              "<Figure size 432x288 with 1 Axes>"
            ]
          },
          "metadata": {
            "tags": [],
            "needs_background": "light"
          }
        }
      ]
    },
    {
      "cell_type": "markdown",
      "metadata": {
        "id": "yYIAO9djLQLM"
      },
      "source": [
        "Criando nosso modulo retangulo"
      ]
    },
    {
      "cell_type": "code",
      "metadata": {
        "id": "4nzoEcKLLUJY",
        "outputId": "17be86f2-01a3-44a6-9ac4-75c8f501e9a9",
        "colab": {
          "base_uri": "https://localhost:8080/",
          "height": 69
        }
      },
      "source": [
        "import math\n",
        "\n",
        "def area_ret(b,h):\n",
        "  return b*h\n",
        "\n",
        "def perimetro(b,h):\n",
        "  p = 2*b + 2*h\n",
        "  return p\n",
        "\n",
        "def diagonal_ret(b,h):\n",
        "  #a**2 = b**2 + c**2 nós queremos encontar a \n",
        "  a = b**2 + h**2\n",
        "  a = math.sqrt(a)\n",
        "  return a\n",
        "\n",
        "\n",
        "b = 4\n",
        "h = 6\n",
        "\n",
        "print('Area', area_ret(b,h))\n",
        "print('Perimetro', perimetro(b,h))\n",
        "print('Diagonal',diagonal_ret(b,h))\n"
      ],
      "execution_count": null,
      "outputs": [
        {
          "output_type": "stream",
          "text": [
            "Area 24\n",
            "Perimetro 20\n",
            "Diagonal 7.211102550927978\n"
          ],
          "name": "stdout"
        }
      ]
    },
    {
      "cell_type": "code",
      "metadata": {
        "id": "ESCpDXAhLpfW"
      },
      "source": [
        "#Vamos criar um arquivo retangulo.py com as nossas funções"
      ],
      "execution_count": null,
      "outputs": []
    },
    {
      "cell_type": "code",
      "metadata": {
        "id": "T7wUqAHjMrkz"
      },
      "source": [
        "#importando nosso modulo\n",
        "\n",
        "import retangulo as r\n",
        " \n",
        "b = 4\n",
        "h = 6\n",
        "\n",
        "print('Area', r.area_ret(b,h))\n",
        "print('Perimetro', r.perimetro(b,h))\n",
        "print('Diagonal', r.diagonal_ret(b,h))"
      ],
      "execution_count": null,
      "outputs": []
    },
    {
      "cell_type": "code",
      "metadata": {
        "id": "7nxOuVIrOQSb"
      },
      "source": [
        "pi = 3.14\n",
        "\n",
        "def area(r):\n",
        "  return pi * (r**2)\n",
        "\n",
        "def comprimento(r):\n",
        "  return 2 * pi * r"
      ],
      "execution_count": 15,
      "outputs": []
    },
    {
      "cell_type": "code",
      "metadata": {
        "id": "CEOkvgUaOxvw"
      },
      "source": [
        "#criando um modulo circulo\n",
        "\n",
        "import circulo as c\n",
        "\n",
        "r = 3\n",
        "\n",
        "print('Area', c.area(r))\n",
        "print('Comprimentp', c.comprimento(r))"
      ],
      "execution_count": null,
      "outputs": []
    },
    {
      "cell_type": "code",
      "metadata": {
        "id": "wGoBuKJ0PEJy"
      },
      "source": [
        "#agora vamos importar do nosso pacote dois modulos retangulo e circulo:\n",
        "\n",
        "from meupacote import circulo, retangulo"
      ],
      "execution_count": null,
      "outputs": []
    },
    {
      "cell_type": "code",
      "metadata": {
        "id": "wSymT8tmPV14"
      },
      "source": [
        "print(circulo.area(2))\n",
        "print(retangulo.area_ret(2,3))"
      ],
      "execution_count": null,
      "outputs": []
    },
    {
      "cell_type": "markdown",
      "metadata": {
        "id": "AJwOpq6APfEI"
      },
      "source": [
        "Instalando pacotes\n",
        "!pip install nomedapacote"
      ]
    },
    {
      "cell_type": "code",
      "metadata": {
        "id": "ynZ8c2Z2Poup"
      },
      "source": [
        "!pip install pandas-profiling"
      ],
      "execution_count": null,
      "outputs": []
    },
    {
      "cell_type": "code",
      "metadata": {
        "id": "eYd0QlnAPwmW"
      },
      "source": [
        "import pandas_profiling as pp"
      ],
      "execution_count": null,
      "outputs": []
    },
    {
      "cell_type": "code",
      "metadata": {
        "id": "qUoRDAssP1D0"
      },
      "source": [
        "pp."
      ],
      "execution_count": null,
      "outputs": []
    }
  ]
}