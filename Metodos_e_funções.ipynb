{
  "nbformat": 4,
  "nbformat_minor": 0,
  "metadata": {
    "colab": {
      "name": "Metodos e funções.ipynb",
      "provenance": [],
      "collapsed_sections": []
    },
    "kernelspec": {
      "name": "python3",
      "display_name": "Python 3"
    }
  },
  "cells": [
    {
      "cell_type": "code",
      "metadata": {
        "id": "gOgNgT5tYEkm",
        "outputId": "b97d9bfe-7502-416c-86ca-5daa85edaec0",
        "colab": {
          "base_uri": "https://localhost:8080/",
          "height": 52
        }
      },
      "source": [
        "#usando as funções built in\n",
        "\n",
        "lista = [1,2,3,4,5]\n",
        "print(min(lista))\n",
        "print(max(lista))"
      ],
      "execution_count": 1,
      "outputs": [
        {
          "output_type": "stream",
          "text": [
            "1\n",
            "5\n"
          ],
          "name": "stdout"
        }
      ]
    },
    {
      "cell_type": "code",
      "metadata": {
        "id": "Db7Ho11HaId7",
        "outputId": "92c92f4c-6a46-49be-cff0-1300b4f2343e",
        "colab": {
          "base_uri": "https://localhost:8080/",
          "height": 34
        }
      },
      "source": [
        "#função round\n",
        "x = 3.5\n",
        "round(x)"
      ],
      "execution_count": 2,
      "outputs": [
        {
          "output_type": "execute_result",
          "data": {
            "text/plain": [
              "4"
            ]
          },
          "metadata": {
            "tags": []
          },
          "execution_count": 2
        }
      ]
    },
    {
      "cell_type": "code",
      "metadata": {
        "id": "INXKuGkZabHf",
        "outputId": "ed7f85c5-8f79-4124-ae85-fe8a1e3ff15a",
        "colab": {
          "base_uri": "https://localhost:8080/",
          "height": 34
        }
      },
      "source": [
        "#relembrando algumas funções de listas e dicionarios\n",
        "\n",
        "l = ['a', 'b', 'c']\n",
        "l.append('d')\n",
        "l.remove('c')\n",
        "\n",
        "print(l)"
      ],
      "execution_count": 6,
      "outputs": [
        {
          "output_type": "stream",
          "text": [
            "['a', 'b', 'd']\n"
          ],
          "name": "stdout"
        }
      ]
    },
    {
      "cell_type": "code",
      "metadata": {
        "id": "rpoA-j2habL8",
        "outputId": "9ef47dc9-fb8c-4c50-909e-1a928f1edbef",
        "colab": {
          "base_uri": "https://localhost:8080/",
          "height": 34
        }
      },
      "source": [
        "dic = {'ola':'hello', 'oi':'hi', 'ei':'hey'}\n",
        "\n",
        "dic.update({'tchau':'bye'})\n",
        "print(dic)"
      ],
      "execution_count": 7,
      "outputs": [
        {
          "output_type": "stream",
          "text": [
            "{'ola': 'hello', 'oi': 'hi', 'ei': 'hey', 'tchau': 'bye'}\n"
          ],
          "name": "stdout"
        }
      ]
    },
    {
      "cell_type": "code",
      "metadata": {
        "id": "1m4BSiK6abZ8"
      },
      "source": [
        "#help é uma função muito importante ela nos da a descrição do uso das funções:\n",
        "\n",
        "help(min)\n",
        "\n",
        "#tambem podemos usar funcao(clicar shift + tab com o cursor aqui dentro)\n",
        "\n",
        "min()"
      ],
      "execution_count": null,
      "outputs": []
    },
    {
      "cell_type": "markdown",
      "metadata": {
        "id": "UGcLidIFbwfK"
      },
      "source": [
        "Criando metodos\n",
        "Para criar metodos fazemos da seguinte maneira"
      ]
    },
    {
      "cell_type": "code",
      "metadata": {
        "id": "g9p2IxdJabgB"
      },
      "source": [
        "#def nome_da_funcao():\n",
        "# bloco de codigo"
      ],
      "execution_count": null,
      "outputs": []
    },
    {
      "cell_type": "code",
      "metadata": {
        "id": "nZEkCl4hcBop"
      },
      "source": [
        "#definindo o metodo:\n",
        "def diz_oi():\n",
        "  print('Fala Galera')\n",
        "  "
      ],
      "execution_count": 12,
      "outputs": []
    },
    {
      "cell_type": "code",
      "metadata": {
        "id": "llv-aAFZcRpE",
        "outputId": "7c852930-3015-41f0-b104-560b71d48741",
        "colab": {
          "base_uri": "https://localhost:8080/",
          "height": 34
        }
      },
      "source": [
        "#executando a função:\n",
        "diz_oi()"
      ],
      "execution_count": 18,
      "outputs": [
        {
          "output_type": "stream",
          "text": [
            "Fala Galera\n"
          ],
          "name": "stdout"
        }
      ]
    },
    {
      "cell_type": "code",
      "metadata": {
        "id": "wgpHkI9ccT3O",
        "outputId": "7604899e-59c9-4d0c-ecd5-a237a6302ea5",
        "colab": {
          "base_uri": "https://localhost:8080/",
          "height": 34
        }
      },
      "source": [
        "oi = diz_oi()"
      ],
      "execution_count": 17,
      "outputs": [
        {
          "output_type": "stream",
          "text": [
            "Fala Galera\n"
          ],
          "name": "stdout"
        }
      ]
    },
    {
      "cell_type": "code",
      "metadata": {
        "id": "hq1qUtNCc6Vh"
      },
      "source": [
        "oi"
      ],
      "execution_count": 19,
      "outputs": []
    },
    {
      "cell_type": "code",
      "metadata": {
        "id": "VfnX8Uuwc6ox"
      },
      "source": [
        "#metodos com parametros\n",
        "\n",
        "def ao_quadrado( x ):\n",
        "  print('O valor ao quadrado é:', x**2)"
      ],
      "execution_count": 20,
      "outputs": []
    },
    {
      "cell_type": "code",
      "metadata": {
        "id": "xRUVhM9bc6wH",
        "outputId": "b63da8fa-fecc-404e-eae1-90f96caaf636",
        "colab": {
          "base_uri": "https://localhost:8080/",
          "height": 34
        }
      },
      "source": [
        "#atençõ: Agora precisamos passar o parametro na chamada da função\n",
        "valor_ao_quadrado = ao_quadrado(10)"
      ],
      "execution_count": 21,
      "outputs": [
        {
          "output_type": "stream",
          "text": [
            "O valor ao quadrado é: 100\n"
          ],
          "name": "stdout"
        }
      ]
    },
    {
      "cell_type": "code",
      "metadata": {
        "id": "ZZhRIAiXdeBt",
        "outputId": "97efad79-d9a6-42d0-8e2a-0df718b81854",
        "colab": {
          "base_uri": "https://localhost:8080/",
          "height": 34
        }
      },
      "source": [
        "valor_ao_quadrado"
      ],
      "execution_count": 32,
      "outputs": [
        {
          "output_type": "execute_result",
          "data": {
            "text/plain": [
              "100"
            ]
          },
          "metadata": {
            "tags": []
          },
          "execution_count": 32
        }
      ]
    },
    {
      "cell_type": "markdown",
      "metadata": {
        "id": "GdayfdyydjTh"
      },
      "source": [
        "Criando funções"
      ]
    },
    {
      "cell_type": "code",
      "metadata": {
        "id": "GZm-xV0MdiZY"
      },
      "source": [
        "#def nome_da_funçaõ():\n",
        "  #bloco de codigo\n",
        "  #return()"
      ],
      "execution_count": 23,
      "outputs": []
    },
    {
      "cell_type": "code",
      "metadata": {
        "id": "_LrSFvhrdwVm"
      },
      "source": [
        "def func_ao_quadrado(x):\n",
        "  return(x**2)"
      ],
      "execution_count": 24,
      "outputs": []
    },
    {
      "cell_type": "code",
      "metadata": {
        "id": "f9DNJpihd8sd",
        "outputId": "e968fa36-0376-417f-fe05-1e0333baff9b",
        "colab": {
          "base_uri": "https://localhost:8080/",
          "height": 34
        }
      },
      "source": [
        "valor_ao_quadrado = func_ao_quadrado(10)\n",
        "\n",
        "valor_ao_quadrado"
      ],
      "execution_count": 26,
      "outputs": [
        {
          "output_type": "execute_result",
          "data": {
            "text/plain": [
              "100"
            ]
          },
          "metadata": {
            "tags": []
          },
          "execution_count": 26
        }
      ]
    },
    {
      "cell_type": "code",
      "metadata": {
        "id": "9kY8AdGKd9S7"
      },
      "source": [
        "#podemos ter mais de um parametro:\n",
        "\n",
        "def soma(x,y):\n",
        "  return x + y"
      ],
      "execution_count": 28,
      "outputs": []
    },
    {
      "cell_type": "code",
      "metadata": {
        "id": "6lCCABfdd9Wp",
        "outputId": "aad3ead3-8f9d-4406-cd42-74714b424f4d",
        "colab": {
          "base_uri": "https://localhost:8080/",
          "height": 34
        }
      },
      "source": [
        "retorno_soma = soma(100,75); retorno_soma"
      ],
      "execution_count": 31,
      "outputs": [
        {
          "output_type": "execute_result",
          "data": {
            "text/plain": [
              "175"
            ]
          },
          "metadata": {
            "tags": []
          },
          "execution_count": 31
        }
      ]
    },
    {
      "cell_type": "code",
      "metadata": {
        "id": "BFve6tzSejW5"
      },
      "source": [
        "#utilizando estrutura if else\n",
        "def identifica_pares(x):\n",
        "  if x % 2 == 0:\n",
        "    print(x,'é par')"
      ],
      "execution_count": 33,
      "outputs": []
    },
    {
      "cell_type": "code",
      "metadata": {
        "id": "GZSNndMlejTT",
        "outputId": "c7e9f91f-4ae4-4bf3-e598-dfd8f5f38a40",
        "colab": {
          "base_uri": "https://localhost:8080/",
          "height": 34
        }
      },
      "source": [
        "identifica_pares(10)"
      ],
      "execution_count": 34,
      "outputs": [
        {
          "output_type": "stream",
          "text": [
            "10 é par\n"
          ],
          "name": "stdout"
        }
      ]
    },
    {
      "cell_type": "code",
      "metadata": {
        "id": "lDCTOJwKfN1g"
      },
      "source": [
        "#utilizando a estrutura for :\n",
        "#importante ficar atento a identação\n",
        "\n",
        "def identifica_pares_na_lista(lista):\n",
        "  pares = []\n",
        "  for i in lista:\n",
        "    if i % 2 == 0:\n",
        "      pares.append(i)\n",
        "    else:\n",
        "      continue\n",
        "  return pares"
      ],
      "execution_count": 35,
      "outputs": []
    },
    {
      "cell_type": "code",
      "metadata": {
        "id": "SvbHfaMKfvXp",
        "outputId": "d45077e7-a49a-4481-8b25-7e097e66f7b8",
        "colab": {
          "base_uri": "https://localhost:8080/",
          "height": 34
        }
      },
      "source": [
        "pares_lista = identifica_pares_na_lista([1,2,3,4,5,6,7,8,9,10])\n",
        "\n",
        "pares_lista"
      ],
      "execution_count": 36,
      "outputs": [
        {
          "output_type": "execute_result",
          "data": {
            "text/plain": [
              "[2, 4, 6, 8, 10]"
            ]
          },
          "metadata": {
            "tags": []
          },
          "execution_count": 36
        }
      ]
    },
    {
      "cell_type": "code",
      "metadata": {
        "id": "4BGUx42-fvnA",
        "outputId": "1a75309f-9230-4040-bb17-fbf26fe599fe",
        "colab": {
          "base_uri": "https://localhost:8080/",
          "height": 34
        }
      },
      "source": [
        "type(identifica_pares_na_lista)"
      ],
      "execution_count": 37,
      "outputs": [
        {
          "output_type": "execute_result",
          "data": {
            "text/plain": [
              "function"
            ]
          },
          "metadata": {
            "tags": []
          },
          "execution_count": 37
        }
      ]
    },
    {
      "cell_type": "code",
      "metadata": {
        "id": "jbnO6pQofvxm",
        "outputId": "c354db7b-e63d-4ad2-811c-3087c65aa196",
        "colab": {
          "base_uri": "https://localhost:8080/",
          "height": 86
        }
      },
      "source": [
        "help(identifica_pares_na_lista)"
      ],
      "execution_count": 38,
      "outputs": [
        {
          "output_type": "stream",
          "text": [
            "Help on function identifica_pares_na_lista in module __main__:\n",
            "\n",
            "identifica_pares_na_lista(lista)\n",
            "\n"
          ],
          "name": "stdout"
        }
      ]
    },
    {
      "cell_type": "code",
      "metadata": {
        "id": "z3UrvTyPfv6K"
      },
      "source": [
        "def identifica_pares_na_lista(lista):\n",
        "  \"\"\"\\n\n",
        "  retorna lista de numeros pares na lista de input\n",
        "  \"\"\"\n",
        "  pares = []\n",
        "  for i in lista:\n",
        "    if i % 2 == 0:\n",
        "      pares.append(i)\n",
        "    else:\n",
        "      continue\n",
        "  return pares"
      ],
      "execution_count": 43,
      "outputs": []
    },
    {
      "cell_type": "code",
      "metadata": {
        "id": "P_6EET-JgujG",
        "outputId": "4fbfaec4-f370-4e63-a4e0-14634930a698",
        "colab": {
          "base_uri": "https://localhost:8080/",
          "height": 104
        }
      },
      "source": [
        "help(identifica_pares_na_lista)"
      ],
      "execution_count": 44,
      "outputs": [
        {
          "output_type": "stream",
          "text": [
            "Help on function identifica_pares_na_lista in module __main__:\n",
            "\n",
            "identifica_pares_na_lista(lista)\n",
            "    retorna lista de numeros pares na lista de input\n",
            "\n"
          ],
          "name": "stdout"
        }
      ]
    },
    {
      "cell_type": "code",
      "metadata": {
        "id": "58GGUEhFguoJ"
      },
      "source": [
        "#para determinados programas codigos que queremsos fazer, podemos construir um arquivo com as nossas proprias \n",
        "#funções e depois podemos rodar aqui no notebook --> func.py"
      ],
      "execution_count": null,
      "outputs": []
    },
    {
      "cell_type": "code",
      "metadata": {
        "id": "EOejBoHCg-M0"
      },
      "source": [
        "#load minhas_funcs.py\n",
        "#import funcs as f.\n",
        "def soma(x,y):\n",
        "  return x+y\n",
        "\n",
        "def multiplica(x,y):\n",
        "  return x*y\n",
        "\n",
        "def encontra_max_lista(lista):\n",
        "  return max(lista)\n",
        "\n",
        "def verifica_se_e_par(x):\n",
        "  if x % 2 == 0:\n",
        "    print(x, 'é par')"
      ],
      "execution_count": 47,
      "outputs": []
    },
    {
      "cell_type": "code",
      "metadata": {
        "id": "gACadGkrg-Zy"
      },
      "source": [
        "encontra_max_lista([1,3,5])"
      ],
      "execution_count": null,
      "outputs": []
    },
    {
      "cell_type": "code",
      "metadata": {
        "id": "Oi_aIdL8gu8k"
      },
      "source": [
        "verifica_se_e_par(5)"
      ],
      "execution_count": null,
      "outputs": []
    },
    {
      "cell_type": "code",
      "metadata": {
        "id": "wTMtX5QEgvJf"
      },
      "source": [
        "import minhas_funcs as f."
      ],
      "execution_count": null,
      "outputs": []
    },
    {
      "cell_type": "code",
      "metadata": {
        "id": "YPGNy-wki3kd"
      },
      "source": [
        "f.encontra_max_lista([1,3,5])"
      ],
      "execution_count": null,
      "outputs": []
    },
    {
      "cell_type": "code",
      "metadata": {
        "id": "N1bxhrTWi3wf"
      },
      "source": [
        "f.verifica_se_e_par(2)"
      ],
      "execution_count": null,
      "outputs": []
    }
  ]
}