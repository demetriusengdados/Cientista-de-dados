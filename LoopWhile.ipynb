{
  "nbformat": 4,
  "nbformat_minor": 0,
  "metadata": {
    "colab": {
      "name": "LoopWhile.ipynb",
      "provenance": []
    },
    "kernelspec": {
      "name": "python3",
      "display_name": "Python 3"
    }
  },
  "cells": [
    {
      "cell_type": "code",
      "metadata": {
        "id": "ee5moOnYN_at"
      },
      "source": [
        "#while (condição)\n",
        "#condição para executar esse codigo"
      ],
      "execution_count": null,
      "outputs": []
    },
    {
      "cell_type": "code",
      "metadata": {
        "id": "crw1MGSbOOWO",
        "outputId": "d429e922-6722-45a1-fcf1-9196bf283e0a",
        "colab": {
          "base_uri": "https://localhost:8080/",
          "height": 225
        }
      },
      "source": [
        "#Ex suponha que estamos construindo um modelo de ML. Queremos rodar esse codigo ate que nosso modelo tenha um\n",
        "# erro menor que um determinado valor, digamos 11\n",
        "\n",
        "\n",
        "erro = 30\n",
        "\n",
        "while erro > 11:\n",
        "  print('O erro ainda é maior que 11 é ', erro)\n",
        "  erro = erro - 2 # sem essa linha o while nunca pararia\n",
        "\n",
        "print('\\n fim do while com erro igual a', erro)"
      ],
      "execution_count": 1,
      "outputs": [
        {
          "output_type": "stream",
          "text": [
            "O erro ainda é maior que 11 é  30\n",
            "O erro ainda é maior que 11 é  28\n",
            "O erro ainda é maior que 11 é  26\n",
            "O erro ainda é maior que 11 é  24\n",
            "O erro ainda é maior que 11 é  22\n",
            "O erro ainda é maior que 11 é  20\n",
            "O erro ainda é maior que 11 é  18\n",
            "O erro ainda é maior que 11 é  16\n",
            "O erro ainda é maior que 11 é  14\n",
            "O erro ainda é maior que 11 é  12\n",
            "\n",
            " fim do while com erro igual a 10\n"
          ],
          "name": "stdout"
        }
      ]
    }
  ]
}