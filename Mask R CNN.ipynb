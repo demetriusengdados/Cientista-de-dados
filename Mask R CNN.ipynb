{
 "cells": [
  {
   "cell_type": "code",
   "execution_count": null,
   "metadata": {},
   "outputs": [],
   "source": [
    "import sys\n",
    "import random \n",
    "import math\n",
    "import numpy as np\n",
    "import skimage.io\n",
    "import matpltolib\n",
    "import matplotlib.pyplot as plt\n",
    "import os\n",
    "\n",
    "#root directory of the project\n",
    "ROOT_DIR = os.path.abspath(''../'')\n",
    "\n",
    "#import  mask RCNN\n",
    "sys.path.append(\"ROOT_DIR\") #to find local version of the library\n",
    "from mrcnn import utils\n",
    "import mrcnn.model as modellib\n",
    "from mrcnn import vizualize\n",
    "\n",
    "#import coco config\n",
    "sys.path.append(os.path.abspath(\"samples/coco/\")) #to find local version\n",
    "import coco\n",
    "\n",
    "%matplotlib inline\n",
    "\n",
    "#directory to save logs and trained model\n",
    "MODEL_DIR = os.path.join(ROOT_DIR, \"logs\")\n",
    "\n",
    "#local path to trained weights from releases if needed\n",
    "if not os.path.exists(COCO_MODEL_PATH):\n",
    "    utils.download_trained_weights(COCO_MODEL_PATH)\n",
    "    \n",
    "#directory of images to run detection on\n",
    "IMAGE_DIR = os.path.abspath(\"images\")"
   ]
  },
  {
   "cell_type": "code",
   "execution_count": null,
   "metadata": {},
   "outputs": [],
   "source": [
    "import tensorflow as tf\n",
    "print(tf.__version__)"
   ]
  },
  {
   "cell_type": "code",
   "execution_count": null,
   "metadata": {},
   "outputs": [],
   "source": [
    "class InferenceConfig(coco.CocoConfig):\n",
    "    #set batch sizew to 1 since we 11 be running inference on\n",
    "    #one image at a time. batch size = gpu_count * IMAGES_PER_GPU\n",
    "    \n",
    "    GPU_COUNT = 1\n",
    "    IMAGES_PER_GPU = 1\n",
    "    \n",
    "config = InferenceConfig()\n",
    "config.display()\n"
   ]
  }
 ],
 "metadata": {
  "kernelspec": {
   "display_name": "Python 3",
   "language": "python",
   "name": "python3"
  },
  "language_info": {
   "codemirror_mode": {
    "name": "ipython",
    "version": 3
   },
   "file_extension": ".py",
   "mimetype": "text/x-python",
   "name": "python",
   "nbconvert_exporter": "python",
   "pygments_lexer": "ipython3",
   "version": "3.8.3"
  }
 },
 "nbformat": 4,
 "nbformat_minor": 4
}
