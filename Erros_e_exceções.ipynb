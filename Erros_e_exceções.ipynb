{
  "nbformat": 4,
  "nbformat_minor": 0,
  "metadata": {
    "colab": {
      "name": "Erros e exceções.ipynb",
      "provenance": [],
      "collapsed_sections": []
    },
    "kernelspec": {
      "name": "python3",
      "display_name": "Python 3"
    }
  },
  "cells": [
    {
      "cell_type": "code",
      "metadata": {
        "id": "5OL9Y9lzM1hi",
        "outputId": "96a2287f-c67e-458b-cf7b-d981caffade4",
        "colab": {
          "base_uri": "https://localhost:8080/",
          "height": 52
        }
      },
      "source": [
        "#No caso de o erro não estar tratado, nosso codigo, no momento em que encontra a exceção ele quebra:\n",
        "\n",
        "valor = 1000\n",
        "parcelas = int(input('Numero de parcelas: '))\n",
        "valor_da_parcela = valor / parcelas\n",
        "\n",
        "print('Ok! Nesse caso o valor de cada parcela é:', round(valor_da_parcela,2))"
      ],
      "execution_count": 1,
      "outputs": [
        {
          "output_type": "stream",
          "text": [
            "Numero de parcelas: 10\n",
            "Ok! Nesse caso o valor de cada parcela é: 100.0\n"
          ],
          "name": "stdout"
        }
      ]
    },
    {
      "cell_type": "code",
      "metadata": {
        "id": "MI9N__6SP4Uo",
        "outputId": "3db7870b-7648-4e6d-9649-c49c03e9e82b",
        "colab": {
          "base_uri": "https://localhost:8080/",
          "height": 69
        }
      },
      "source": [
        "#fazendo tratamento do erro com try-except:\n",
        "valor = 1000\n",
        "\n",
        "try:\n",
        "  psrcelas = int(input('Numero de parcelas: '))\n",
        "  valor_da_parcela = valor / parcelas\n",
        "  print('Ok! O valor da parcela é: ', round(valor_da_parcela,2))\n",
        "except:\n",
        "  print('Algo está errado')\n",
        "\n",
        "print('será executado porque tratamos o erro')"
      ],
      "execution_count": 4,
      "outputs": [
        {
          "output_type": "stream",
          "text": [
            "Numero de parcelas: dez\n",
            "Algo está errado\n",
            "será executado porque tratamos o erro\n"
          ],
          "name": "stdout"
        }
      ]
    },
    {
      "cell_type": "code",
      "metadata": {
        "id": "HNekY9GnP4tt"
      },
      "source": [
        "#podemos mostrar qual tipo de erro:\n",
        "valor = 1000\n",
        "\n",
        "try:\n",
        "  parcelas = int(input('Numero de parcelas: '))\n",
        "  valor_da_parcela = valor / parcelas\n",
        "  print('Ok o valor da parcela é: ',round(valor_da_parcela,2))\n",
        "except Exception as erro:\n",
        "  print('Aconteceu um tipo de erro', erro.__class__,'e a mensagem de erro é:',erro)\n",
        "print('Será executado porque tratamos o erro')"
      ],
      "execution_count": null,
      "outputs": []
    },
    {
      "cell_type": "code",
      "metadata": {
        "id": "8z1pXtyMP45Q",
        "outputId": "14994d14-c576-4dbd-b7eb-88e15416633e",
        "colab": {
          "base_uri": "https://localhost:8080/",
          "height": 52
        }
      },
      "source": [
        "#podemos ainda colocar uma exception para um tipo especifico de erro:\n",
        "\n",
        "valor = 1000\n",
        "\n",
        "try:\n",
        "  parcelas = int(input('Numero de parcelas: '))\n",
        "  valor_da_parcela = valor / parcelas\n",
        "  print('Ok! Nesse caso cada parcela é:', round(valor_da_parcela,2))\n",
        "except ZeroDivisionError:\n",
        "  print('Coloque um numero diferente de 0')\n",
        "except ValueError:\n",
        "  print('Você só pode por números aqui')"
      ],
      "execution_count": 8,
      "outputs": [
        {
          "output_type": "stream",
          "text": [
            "Numero de parcelas: 2\n",
            "Ok! Nesse caso cada parcela é: 500.0\n"
          ],
          "name": "stdout"
        }
      ]
    }
  ]
}