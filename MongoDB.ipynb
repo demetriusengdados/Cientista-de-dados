{
  "nbformat": 4,
  "nbformat_minor": 0,
  "metadata": {
    "colab": {
      "name": "MongoDB.ipynb",
      "provenance": []
    },
    "kernelspec": {
      "name": "python3",
      "display_name": "Python 3"
    }
  },
  "cells": [
    {
      "cell_type": "code",
      "metadata": {
        "id": "n2mbtVIqmkur"
      },
      "source": [
        "#Apos a instalação do mongo DB, vamos instalar o driver do python para acessar o MongoDB via python"
      ],
      "execution_count": null,
      "outputs": []
    },
    {
      "cell_type": "code",
      "metadata": {
        "id": "VxDXyHbRmm3F",
        "outputId": "780a2dcf-01b4-4252-e400-a41e4a00273e",
        "colab": {
          "base_uri": "https://localhost:8080/"
        }
      },
      "source": [
        "!pip install pymongo"
      ],
      "execution_count": 2,
      "outputs": [
        {
          "output_type": "stream",
          "text": [
            "Requirement already satisfied: pymongo in /usr/local/lib/python3.6/dist-packages (3.11.0)\n"
          ],
          "name": "stdout"
        }
      ]
    },
    {
      "cell_type": "code",
      "metadata": {
        "id": "woMWAlCnmm-e"
      },
      "source": [
        "#importando pymongo. A biblioteca pymongo permite interação com banco de dados MOngoDB via python.\n",
        "import pymongo\n",
        "\n",
        "#criando um MongoClient, que representa a conexão com um servidor do mongoDB\n",
        "client = pymongo.MongoClient()"
      ],
      "execution_count": 3,
      "outputs": []
    },
    {
      "cell_type": "code",
      "metadata": {
        "id": "31xkTmTrmnI_"
      },
      "source": [
        "#criando nosso primeiro banco de dados não relacional:\n",
        "primeiro_db = client[\"primeiro_db\"]"
      ],
      "execution_count": 5,
      "outputs": []
    },
    {
      "cell_type": "code",
      "metadata": {
        "id": "AqG1_jdSmnOG"
      },
      "source": [
        "client.list_database_names()"
      ],
      "execution_count": null,
      "outputs": []
    },
    {
      "cell_type": "code",
      "metadata": {
        "id": "qnWguEddmnLx",
        "outputId": "f334efc7-1777-4cad-c2a2-57d781f30f5d",
        "colab": {
          "base_uri": "https://localhost:8080/"
        }
      },
      "source": [
        "#criando a primeira coleção\n",
        "minha_colecao = primeiro_db[\"cadastro_clientes\"]\n",
        "type(minha_colecao)"
      ],
      "execution_count": 8,
      "outputs": [
        {
          "output_type": "execute_result",
          "data": {
            "text/plain": [
              "pymongo.collection.Collection"
            ]
          },
          "metadata": {
            "tags": []
          },
          "execution_count": 8
        }
      ]
    },
    {
      "cell_type": "code",
      "metadata": {
        "id": "ra4Tv_3rmnGZ"
      },
      "source": [
        "#adiconando 3 documentos a nossa coleção.\n",
        "#documentos são escritos em dicionarios ou arquivos json's. Veja que os campos nos documentos podem ser diferentes!\n",
        "\n",
        "cliente1 = {\"nome\": \"Maria\", \"Idade\": 40, \"Cidade\": \"São Paulo\", \"email\": \"maria@gmail.com\"}\n",
        "cliente2 = {\"nome\": \"João\", \"Idade\": 20, \"Cidade\": \"São Paulo\", \"email\": \"joao@gmail.com\"}\n",
        "cliente3 = {\"nome\": \"Paulo\", \"Idade\": 56}"
      ],
      "execution_count": 9,
      "outputs": []
    },
    {
      "cell_type": "code",
      "metadata": {
        "id": "1V2RrNsFmnD3"
      },
      "source": [
        "# a função insert_many adiciona varios documentos de uma só vez na coleção:\n",
        "minha_colecao.insert_many([cliente1,cliente2,cliente3])"
      ],
      "execution_count": null,
      "outputs": []
    },
    {
      "cell_type": "code",
      "metadata": {
        "id": "JNerQVwSmnB5"
      },
      "source": [
        "#agora que ja temos documentos inseridos na coleção o banco de dados aparecera na lista de bancos do MongoDB\n",
        "\n",
        "client.list_database_names()"
      ],
      "execution_count": null,
      "outputs": []
    },
    {
      "cell_type": "code",
      "metadata": {
        "id": "PovfFU9Vq2su"
      },
      "source": [
        "#verificando quais coleções temos:\n",
        "\n",
        "primeiro_db.list_collection_names()"
      ],
      "execution_count": null,
      "outputs": []
    },
    {
      "cell_type": "markdown",
      "metadata": {
        "id": "6LiqzWIjrgeZ"
      },
      "source": [
        "Count: Retorna a quantidade de documentos em uma coleção"
      ]
    },
    {
      "cell_type": "code",
      "metadata": {
        "id": "ykNCK5c0q23V"
      },
      "source": [
        "minha_colecao.count_documents({})"
      ],
      "execution_count": null,
      "outputs": []
    },
    {
      "cell_type": "markdown",
      "metadata": {
        "id": "-Et-pVtKsWVc"
      },
      "source": [
        "Distinct: Retorna uma lista de valores distintos entre todos os documentos, relativosa uma determinada chave"
      ]
    },
    {
      "cell_type": "code",
      "metadata": {
        "id": "agcySR2Rq3BJ"
      },
      "source": [
        "minha_colecao.distinct('nome')"
      ],
      "execution_count": null,
      "outputs": []
    },
    {
      "cell_type": "code",
      "metadata": {
        "id": "vzS8fDdAq20l"
      },
      "source": [
        "minha_colecao.distinct('email')"
      ],
      "execution_count": null,
      "outputs": []
    },
    {
      "cell_type": "markdown",
      "metadata": {
        "id": "TrAquuiSsvxk"
      },
      "source": [
        "Find: "
      ]
    },
    {
      "cell_type": "code",
      "metadata": {
        "id": "-wS8wRJ4q2wY"
      },
      "source": [
        "# A função find é utilizada para fazer queries no banco de dados, assim como usamos e a execute no SQLite:\n",
        "\n",
        "for doc in minha_colecao.find():\n",
        "  print(doc)"
      ],
      "execution_count": null,
      "outputs": []
    },
    {
      "cell_type": "code",
      "metadata": {
        "id": "bR3zVD9Fsz3G"
      },
      "source": [
        "#filtrando documentos, onde idade é maior ou igual a 30 anos:\n",
        "\n",
        "for doc in minha_colecao.find({\"Idade\":{\"$gte\": 30}}):\n",
        "  print(doc)"
      ],
      "execution_count": null,
      "outputs": []
    },
    {
      "cell_type": "code",
      "metadata": {
        "id": "qEietW_osz-O"
      },
      "source": [
        "for doc in minha_colecao.find({\"Cidade\":\"São Paulo\"}):\n",
        "  print(doc)"
      ],
      "execution_count": null,
      "outputs": []
    },
    {
      "cell_type": "code",
      "metadata": {
        "id": "sX6uadLBs0O_"
      },
      "source": [
        "#podemops filtrar apenas os campos que queremos ver:\n",
        "#usamos 1 para os campos que queremos ver e 0 para os campos que não queremos(projeção)\n",
        "\n",
        "for doc in minha_colecao.find({\"Cidade\":\"São Paulo\"},{\"_id\":0, \"nome\":1, \"email\":1}):\n",
        "  print(doc)"
      ],
      "execution_count": null,
      "outputs": []
    },
    {
      "cell_type": "code",
      "metadata": {
        "id": "dVLx-jfgs0Yb"
      },
      "source": [
        "#não podemos fazer isso ou colocamos os campos que não queremos ver , ouc colocamos campos que queremos ver. Só podemos fazer \n",
        "# isso com id\n",
        "for doc in minha_colecao.find({\"Cidade\":\"São Paulo\"},{\"email\":0}):\n",
        "  print(doc)"
      ],
      "execution_count": null,
      "outputs": []
    },
    {
      "cell_type": "code",
      "metadata": {
        "id": "IvnB7AJWs0cr"
      },
      "source": [
        "#o que se pode fazer é o seguinte: quero ver todos os campos com exceção do email\n",
        "\n",
        "for doc in minha_colecao.find({\"Cidade\":\"São Paulo\"},{\"email\":0}):\n",
        "  print(doc)"
      ],
      "execution_count": null,
      "outputs": []
    },
    {
      "cell_type": "code",
      "metadata": {
        "id": "MnyYqJtfsz6e"
      },
      "source": [
        "#ou ainda, quero ver so o campo email:\n",
        "# o id é o unico que funciona de maneira diferente, que voce tem mais controle\n",
        "\n",
        "for doc in minha_colecao.find({\"Cidade\":\"São Paulo\"},{\"email\":1}):\n",
        "  print(doc)"
      ],
      "execution_count": null,
      "outputs": []
    }
  ]
}