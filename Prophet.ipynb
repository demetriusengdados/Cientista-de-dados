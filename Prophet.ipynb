{
 "cells": [
  {
   "cell_type": "markdown",
   "metadata": {},
   "source": [
    "Prophet Forescasting as Scale"
   ]
  },
  {
   "cell_type": "markdown",
   "metadata": {},
   "source": [
    "Descrevemos uma abordagem prática para a previsão 'em escala' que combina modelos configuráveis com análise de \n",
    "desempenho do analista in the loop. Propomos um modelo de regressão com parâmetros interpretáveis que podem ser ajustados intuitivamente por analistas com conhecimento de dominío de sobre séries temporais. Descrevemos as análises de desempenho para comparar e avaliar os procedimentos de previsão e sinalizar automaticamente as previsões para revisão e ajuste manual. As ferramentas que ajudam os analistas a usar sua expêriencia de forma mais eficaz permitem previsões confiáveis e práticas de séries temporais de negócios."
   ]
  },
  {
   "cell_type": "markdown",
   "metadata": {},
   "source": [
    "Explorando Features do prophet"
   ]
  },
  {
   "cell_type": "code",
   "execution_count": 1,
   "metadata": {},
   "outputs": [],
   "source": [
    "import pandas as pd"
   ]
  },
  {
   "cell_type": "code",
   "execution_count": null,
   "metadata": {},
   "outputs": [],
   "source": [
    "df = pd.read_csv('https://raw.github.com/facebook/prophet')"
   ]
  },
  {
   "cell_type": "code",
   "execution_count": null,
   "metadata": {},
   "outputs": [],
   "source": [
    "df.plot()"
   ]
  },
  {
   "cell_type": "code",
   "execution_count": null,
   "metadata": {},
   "outputs": [],
   "source": [
    "model = Prophet\n",
    "model.fit(df)"
   ]
  },
  {
   "cell_type": "code",
   "execution_count": null,
   "metadata": {},
   "outputs": [],
   "source": [
    "future = model.make_future_dataframe(periods=1000)"
   ]
  },
  {
   "cell_type": "code",
   "execution_count": null,
   "metadata": {},
   "outputs": [],
   "source": [
    "forecast = model.predict(future)\n",
    "fig1 = model.plot(forecast)"
   ]
  },
  {
   "cell_type": "code",
   "execution_count": null,
   "metadata": {},
   "outputs": [],
   "source": [
    "fig2 = model.plot_components(forecast)"
   ]
  },
  {
   "cell_type": "markdown",
   "metadata": {},
   "source": [
    "Crescimeto exponencial"
   ]
  },
  {
   "cell_type": "code",
   "execution_count": null,
   "metadata": {},
   "outputs": [],
   "source": [
    "model = Prophet(growth='logistic', changepoint_prior_scale = 0.1, seasonlity_prior_scale = 1.0)\n",
    "df['cap'] = 15\n",
    "df['floor'] = 0\n",
    "\n",
    "model.fit(df)\n",
    "future = model.make_future_dataframe(periods=1000)\n",
    "future['cap'] = 15\n",
    "future['floor'] = 0\n",
    "forecast = model.predict(future)\n",
    "fig1 = model.plot(forecast)\n",
    "fig2 = model.plot_components(forecast)"
   ]
  },
  {
   "cell_type": "code",
   "execution_count": null,
   "metadata": {},
   "outputs": [],
   "source": [
    "from fbprophet.diagnostics import cross_validation\n",
    "df_cv = cross_validation(model, initial='730 days', period='180 days', horizon='365 days', parallel='processes')"
   ]
  },
  {
   "cell_type": "code",
   "execution_count": null,
   "metadata": {},
   "outputs": [],
   "source": [
    "df_cv"
   ]
  },
  {
   "cell_type": "markdown",
   "metadata": {},
   "source": [
    "o metódo performance_metrics pode ser usado para calcular algumas estatíticas úteis do desempenho da previsão(yhat, yhat_lower e yhat_upper em comparação com y), como uma função da distância do corte (quão longe no futuro estava a previsão). As estatísticas calculadas são o erro quadrático médio(MSE), raiz do erro quadrático médio(RMSE), erro absoluto médio(MAE), erro percentual absoluto médio(MAPE), erro percentual absoluto mediano(MDAPE) e cobertura das estimativas yhat_lower e yhat_upper. Eles são calculados em uma janela contínua das previsões em df_cv após a classificação por horizonte(ds menos corte)."
   ]
  },
  {
   "cell_type": "code",
   "execution_count": null,
   "metadata": {},
   "outputs": [],
   "source": [
    "from fnprophet.diagnostics import performance_metrics\n",
    "df_p = performance_metrics(df_cv)\n",
    "df_p.head()"
   ]
  },
  {
   "cell_type": "markdown",
   "metadata": {},
   "source": [
    "Hyperparameter tunning"
   ]
  },
  {
   "cell_type": "code",
   "execution_count": 3,
   "metadata": {},
   "outputs": [],
   "source": [
    "import datetime"
   ]
  },
  {
   "cell_type": "code",
   "execution_count": null,
   "metadata": {},
   "outputs": [],
   "source": [
    "import itertools\n",
    "import numpy as np\n",
    "import pandas as pd\n",
    "\n",
    "param_grid = {\n",
    "    'changepoint_prior_scale': [0.001, 0.01, 0.1, 0.5],\n",
    "    'seasonality_prior_scale': [0.01, 0.1, 1.0, 10.0],\n",
    "}\n",
    "\n",
    "cutoffs = pd.to_datetime(['2013-02-15', '2013-08-15', '2014-02-15'])\n",
    "\n",
    "#General all combinations of parameters\n",
    "\n",
    "all_params = [dict(zip(param_grid.keys(), v)) for v in itertools.product(*param_grid.values())]\n",
    "rmses = [] #store the RMSEs for each params here\n",
    "mapes = [] #store the MAPEs for each params here\n",
    "#use cross_validation to evaluate all parameters\n",
    "for params in all_params:\n",
    "    m = Prophet(**params).fit(df)    #fit model with givens params\n",
    "    df_cv = cross_validation(m, cutoffs, horizon='30 days', parallel='processes')\n",
    "    df_p = performance_metrics(df_cv)\n",
    "    rmses.append(df_p['rmse'].values[0])\n",
    "    mapes.append(df_p['mape'].values[0])\n",
    "#Encontrando os melhores parametros\n",
    "tuning_results = pd.DataFrame(all_params)\n",
    "tuning_results['rmse'] = rmses\n",
    "tuning_results['mape'] = mapes\n",
    "print(tuning_results)"
   ]
  },
  {
   "cell_type": "code",
   "execution_count": null,
   "metadata": {},
   "outputs": [],
   "source": [
    "best_params = all_params[np.argmin(rmses)]\n",
    "print(best_params)"
   ]
  },
  {
   "cell_type": "code",
   "execution_count": null,
   "metadata": {},
   "outputs": [],
   "source": [
    "model = Prophet(**best_params)\n",
    "model.fit(df)\n",
    "\n",
    "future = model.make_future_dataframe(periods=1000)\n",
    "\n",
    "forecast = model.predict(future)\n",
    "fig1 = model.plot(forecast)"
   ]
  }
 ],
 "metadata": {
  "kernelspec": {
   "display_name": "Python 3",
   "language": "python",
   "name": "python3"
  },
  "language_info": {
   "codemirror_mode": {
    "name": "ipython",
    "version": 3
   },
   "file_extension": ".py",
   "mimetype": "text/x-python",
   "name": "python",
   "nbconvert_exporter": "python",
   "pygments_lexer": "ipython3",
   "version": "3.8.3"
  }
 },
 "nbformat": 4,
 "nbformat_minor": 4
}
