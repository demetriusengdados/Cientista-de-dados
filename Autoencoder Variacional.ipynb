{
 "cells": [
  {
   "cell_type": "markdown",
   "metadata": {},
   "source": [
    "Autoencoders variacionais "
   ]
  },
  {
   "cell_type": "markdown",
   "metadata": {},
   "source": [
    "Quando fazemos para um autoencoder usual, estamos pegando toda a informação que há no input e a comprimindo para que ela fique do tamanho do código."
   ]
  },
  {
   "cell_type": "markdown",
   "metadata": {},
   "source": [
    "Forçamos que o código seja de um tamanho k, e que todos os nossos dados sejam suficientemente bem representadis através de k valores."
   ]
  },
  {
   "cell_type": "markdown",
   "metadata": {},
   "source": [
    "A idéia de um auto encoder variacional é um pouco diferente: ao invés de aprender uma nova representação fixa de tamanho k, cada k vai ser modelado por uma distribuição Normal. Então cada variável vai ser modelada por uma distribuição."
   ]
  },
  {
   "cell_type": "markdown",
   "metadata": {},
   "source": [
    "A função custo vai depender de duas coisas:\n",
    "1. A qualidade da restauração feita pelo autoencoder('reconstruction error')\n",
    "2. A divergência de KL entre a distribuição sendo estimada no espaço latente e uma distribuição Normal padrão."
   ]
  }
 ],
 "metadata": {
  "kernelspec": {
   "display_name": "Python 3",
   "language": "python",
   "name": "python3"
  },
  "language_info": {
   "codemirror_mode": {
    "name": "ipython",
    "version": 3
   },
   "file_extension": ".py",
   "mimetype": "text/x-python",
   "name": "python",
   "nbconvert_exporter": "python",
   "pygments_lexer": "ipython3",
   "version": "3.8.3"
  }
 },
 "nbformat": 4,
 "nbformat_minor": 4
}
