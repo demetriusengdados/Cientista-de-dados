{
 "cells": [
  {
   "cell_type": "code",
   "execution_count": 1,
   "metadata": {},
   "outputs": [],
   "source": [
    "from matplotlib import  pyplot as plt\n",
    "import cv2\n",
    "import numpy as np"
   ]
  },
  {
   "cell_type": "code",
   "execution_count": 2,
   "metadata": {},
   "outputs": [
    {
     "ename": "SyntaxError",
     "evalue": "EOL while scanning string literal (<ipython-input-2-753aa5385eb1>, line 6)",
     "output_type": "error",
     "traceback": [
      "\u001b[0;36m  File \u001b[0;32m\"<ipython-input-2-753aa5385eb1>\"\u001b[0;36m, line \u001b[0;32m6\u001b[0m\n\u001b[0;31m    js = Javascript('\u001b[0m\n\u001b[0m                     ^\u001b[0m\n\u001b[0;31mSyntaxError\u001b[0m\u001b[0;31m:\u001b[0m EOL while scanning string literal\n"
     ]
    }
   ],
   "source": [
    "from IPython.display import display, Javascript\n",
    "from google.colab.output import eval_js\n",
    "from base64 import b64decode\n",
    "\n",
    "def take_photo(filename='photo.jpg', quality=0.8):\n",
    "    js = Javascript('\n",
    "        async function takePhoto(quality){\n",
    "        const div = document.createElement('div');\n",
    "        const capture = document.createElement('button');\n",
    "        capture.textContent = 'Capture';\n",
    "        div.appendChild(capture);\n",
    "            \n",
    "        const video = document.createElement('video');\n",
    "        video.style.displpay = 'block';\n",
    "        const stream = await navigator.mediaDevices.getUserMedia({videp: True});\n",
    "            \n",
    "        document.body.appendChild(div);\n",
    "        div.appendChild(video);\n",
    "        video.srObject = stream;\n",
    "        await video.play();\n",
    "            \n",
    "        #Resize the output to fit the video element\n",
    "        google.colab.output.setIframeHeight(document.documentElement.scrollHeight, True);\n",
    "            \n",
    "        #Wait for capture to be clicked.\n",
    "        await new promisse((resolve) => capture.onclick = resolve);\n",
    "            \n",
    "        const canvas = document.createElement('canvas')\n",
    "        canvas.width = video.videoWidth;\n",
    "        canvas.height = video.videoHeight;\n",
    "            \n",
    "        #show the image which was just taken\n",
    "        display(Image(filename))\n",
    "        except Exception as err:\n",
    "            #Errors will be thrown if the user does not have a webcam or if they do not\n",
    "            #grant the page permission to acess it\n",
    "        print(str(err))"
   ]
  },
  {
   "cell_type": "code",
   "execution_count": null,
   "metadata": {},
   "outputs": [],
   "source": [
    "image = cv2.imread('photo.jpg')"
   ]
  },
  {
   "cell_type": "code",
   "execution_count": null,
   "metadata": {},
   "outputs": [],
   "source": [
    "ss.switchToSelectiveSearchFast()"
   ]
  },
  {
   "cell_type": "code",
   "execution_count": null,
   "metadata": {},
   "outputs": [],
   "source": [
    "retangulos = ss.process()"
   ]
  },
  {
   "cell_type": "code",
   "execution_count": null,
   "metadata": {},
   "outputs": [],
   "source": [
    "retangulos.shape"
   ]
  },
  {
   "cell_type": "code",
   "execution_count": null,
   "metadata": {},
   "outputs": [],
   "source": [
    "#vamos pegar k retangulos aleatorios e plotar\n",
    "k = 100\n",
    "retangulos_aleatorios = retangulos[np.random.randint(low = 0, high = retangulos.shape[0], size = k),]\n",
    "output = image.copy()\n",
    "for (a, b, w, h) in retangulos[0:100,]:\n",
    "    color = [np.random.randint(0, 255) for j in range(0,3)]\n",
    "    cv2.rectangle(output, (a, b), (a + w, b + h), color, 2)\n",
    "    \n",
    "plt.imshow(output)"
   ]
  },
  {
   "cell_type": "code",
   "execution_count": null,
   "metadata": {},
   "outputs": [],
   "source": [
    "ss.switchToSelectiveSearchQuality()"
   ]
  },
  {
   "cell_type": "code",
   "execution_count": null,
   "metadata": {},
   "outputs": [],
   "source": [
    "retangulos = ss.process()"
   ]
  },
  {
   "cell_type": "code",
   "execution_count": null,
   "metadata": {},
   "outputs": [],
   "source": [
    "retangulos.shape"
   ]
  },
  {
   "cell_type": "code",
   "execution_count": null,
   "metadata": {},
   "outputs": [],
   "source": [
    "#vamos pegar k retangulos aleatorios e plotar\n",
    "k = 100\n",
    "retangulos_aleatorios = retangulos[np.random.randint(low = 0, high = retangulos.shape[0], size = k),]\n",
    "output = imagecopy()\n",
    "for (a, b, w, h) in retangulos[0:100]:\n",
    "    color = [np.random.randint(0,255) for j in range(0,3)]\n",
    "    cv2.rectangle(output, (a, b), (a + w, b + h),color, 2)\n",
    "    \n",
    "plt.imshow(output)"
   ]
  },
  {
   "cell_type": "code",
   "execution_count": null,
   "metadata": {},
   "outputs": [],
   "source": []
  }
 ],
 "metadata": {
  "kernelspec": {
   "display_name": "Python 3",
   "language": "python",
   "name": "python3"
  },
  "language_info": {
   "codemirror_mode": {
    "name": "ipython",
    "version": 3
   },
   "file_extension": ".py",
   "mimetype": "text/x-python",
   "name": "python",
   "nbconvert_exporter": "python",
   "pygments_lexer": "ipython3",
   "version": "3.8.3"
  }
 },
 "nbformat": 4,
 "nbformat_minor": 4
}
