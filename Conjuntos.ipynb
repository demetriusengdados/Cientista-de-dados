{
  "nbformat": 4,
  "nbformat_minor": 0,
  "metadata": {
    "colab": {
      "name": "Conjuntos.ipynb",
      "provenance": []
    },
    "kernelspec": {
      "name": "python3",
      "display_name": "Python 3"
    }
  },
  "cells": [
    {
      "cell_type": "code",
      "metadata": {
        "id": "RfX9oxjYML-a"
      },
      "source": [
        "#usa chaves tambem porem nao temos pares e sim chaves"
      ],
      "execution_count": 1,
      "outputs": []
    },
    {
      "cell_type": "code",
      "metadata": {
        "id": "AMvZombTMtNK"
      },
      "source": [
        "primeiro_conjunto = {2,4,6,8,10}"
      ],
      "execution_count": 2,
      "outputs": []
    },
    {
      "cell_type": "code",
      "metadata": {
        "id": "rBfmbZNhMtWO",
        "outputId": "815b7cef-9e6d-43ca-ca36-a7ff057a8229",
        "colab": {
          "base_uri": "https://localhost:8080/",
          "height": 34
        }
      },
      "source": [
        "#Não mantém a ordem -- Conjunto não é um objeto ordenado\n",
        "print(primeiro_conjunto)"
      ],
      "execution_count": 3,
      "outputs": [
        {
          "output_type": "stream",
          "text": [
            "{2, 4, 6, 8, 10}\n"
          ],
          "name": "stdout"
        }
      ]
    },
    {
      "cell_type": "code",
      "metadata": {
        "id": "em8e6_UNMtcA",
        "outputId": "ff3d0e5f-c873-4938-8ba8-5e0222cb060d",
        "colab": {
          "base_uri": "https://localhost:8080/",
          "height": 34
        }
      },
      "source": [
        "type(primeiro_conjunto)"
      ],
      "execution_count": 4,
      "outputs": [
        {
          "output_type": "execute_result",
          "data": {
            "text/plain": [
              "set"
            ]
          },
          "metadata": {
            "tags": []
          },
          "execution_count": 4
        }
      ]
    },
    {
      "cell_type": "code",
      "metadata": {
        "id": "eljMrvmhMtjN",
        "outputId": "b70a12f9-f116-4fdf-df64-ddcdcbf44be9",
        "colab": {
          "base_uri": "https://localhost:8080/",
          "height": 34
        }
      },
      "source": [
        "len(primeiro_conjunto)"
      ],
      "execution_count": 5,
      "outputs": [
        {
          "output_type": "execute_result",
          "data": {
            "text/plain": [
              "5"
            ]
          },
          "metadata": {
            "tags": []
          },
          "execution_count": 5
        }
      ]
    },
    {
      "cell_type": "code",
      "metadata": {
        "id": "sNYm20JUMtpM",
        "outputId": "5d6783bf-e3da-4484-e4bb-5b7cfee16939",
        "colab": {
          "base_uri": "https://localhost:8080/",
          "height": 69
        }
      },
      "source": [
        "#Função set, conjuntos não permitem elementos repetidos\n",
        "\n",
        "lista = [1,2,5,6,6,7,8,8,9,11]\n",
        "print(len(lista))\n",
        "print(set(lista))\n",
        "print(len(set(lista)))"
      ],
      "execution_count": 10,
      "outputs": [
        {
          "output_type": "stream",
          "text": [
            "10\n",
            "{1, 2, 5, 6, 7, 8, 9, 11}\n",
            "8\n"
          ],
          "name": "stdout"
        }
      ]
    },
    {
      "cell_type": "code",
      "metadata": {
        "id": "Sm6xIrBqOMLq"
      },
      "source": [
        "#podemos criar conjuntos vazios\n",
        "conj_vazio = set()"
      ],
      "execution_count": 8,
      "outputs": []
    }
  ]
}