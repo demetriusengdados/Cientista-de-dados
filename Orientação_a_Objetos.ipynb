{
  "nbformat": 4,
  "nbformat_minor": 0,
  "metadata": {
    "colab": {
      "name": "Orientação a Objetos.ipynb",
      "provenance": []
    },
    "kernelspec": {
      "name": "python3",
      "display_name": "Python 3"
    }
  },
  "cells": [
    {
      "cell_type": "markdown",
      "metadata": {
        "id": "cYuVsPdgX0LL"
      },
      "source": [
        "Listaremos agora os metodos:\n",
        "ligar{}\n",
        "desligar{}\n",
        "acelerar{}\n",
        "\n",
        "Criando classes e atributos"
      ]
    },
    {
      "cell_type": "code",
      "metadata": {
        "id": "UHVnHu7WUPQS"
      },
      "source": [
        "#Classe por convenção com letra maiuscula:\n",
        "\n",
        "class Veiculo:\n",
        "  def __init__(self, n_rodas, cor, marca):\n",
        "    #o self é necessário porque quando voce quiser construir de fato um veiculo vc passara os atributos dele e \n",
        "    #o programa vai entender que eles serão atribuidos a esse objeto mesmo que ta sendo criado\n",
        "\n",
        "    self.n_rodas = n_rodas\n",
        "    self.cor = cor \n",
        "    self.marca = marca\n",
        "    self.velocidade = 0"
      ],
      "execution_count": 5,
      "outputs": []
    },
    {
      "cell_type": "markdown",
      "metadata": {
        "id": "_5f5XwvqY-KG"
      },
      "source": [
        "Criando nosso primeiro veiculo"
      ]
    },
    {
      "cell_type": "code",
      "metadata": {
        "id": "56BXnT13YSCH",
        "outputId": "c61e9ff0-a776-4b59-9b81-225b82e4c573",
        "colab": {
          "base_uri": "https://localhost:8080/",
          "height": 52
        }
      },
      "source": [
        "veiculo1 = Veiculo(4, 'Branco','ford')\n",
        "\n",
        "print(veiculo1.cor)\n",
        "print(veiculo1.marca)"
      ],
      "execution_count": 6,
      "outputs": [
        {
          "output_type": "stream",
          "text": [
            "Branco\n",
            "ford\n"
          ],
          "name": "stdout"
        }
      ]
    },
    {
      "cell_type": "code",
      "metadata": {
        "id": "wbEAxYgCZc1t",
        "outputId": "f783afd0-192a-4538-dbb3-f37485a5fe2b",
        "colab": {
          "base_uri": "https://localhost:8080/",
          "height": 34
        }
      },
      "source": [
        "#usando objeto podemos ver todos os atributos e metodos desse objeto;\n",
        "veiculo1"
      ],
      "execution_count": 7,
      "outputs": [
        {
          "output_type": "execute_result",
          "data": {
            "text/plain": [
              "<__main__.Veiculo at 0x7f9f7e6ec898>"
            ]
          },
          "metadata": {
            "tags": []
          },
          "execution_count": 7
        }
      ]
    },
    {
      "cell_type": "code",
      "metadata": {
        "id": "x3f2kH7zZm1W",
        "outputId": "248fdd9f-3d32-41df-a519-e3887a668948",
        "colab": {
          "base_uri": "https://localhost:8080/",
          "height": 34
        }
      },
      "source": [
        "#podemos ver o tipo desse objeto, assim como tinhamos objetos, listas, dicionarios\n",
        "type(veiculo1)"
      ],
      "execution_count": 8,
      "outputs": [
        {
          "output_type": "execute_result",
          "data": {
            "text/plain": [
              "__main__.Veiculo"
            ]
          },
          "metadata": {
            "tags": []
          },
          "execution_count": 8
        }
      ]
    },
    {
      "cell_type": "markdown",
      "metadata": {
        "id": "69WFNlfZZ0fM"
      },
      "source": [
        "Criando metodos para nosso veiculo"
      ]
    },
    {
      "cell_type": "code",
      "metadata": {
        "id": "X1xmzx9vZ63p"
      },
      "source": [
        "class Veiculo:\n",
        "  def __init__(self, n_rodas, cor, marca):\n",
        "    # o self é necessario porque quando vc quiser construir de fato um veiculo, vc passara os atributos dele e \n",
        "    # o programa vai entender que eles serão atributos a esse objeto mesmo que ta sendo criado\n",
        "\n",
        "    #atributos\n",
        "\n",
        "    self.n_rodas = n_rodas\n",
        "    self.cor = cor\n",
        "    self.marca = marca\n",
        "    self.velocidade = 0\n",
        "\n",
        "  #metodos\n",
        "  def ligar(self):\n",
        "    print('O carro ligou! Vruuummm')\n",
        "\n",
        "  def desligar(self):\n",
        "    print('O veiculo desigou')\n",
        "\n",
        "  def acelerar(self):\n",
        "    self.velocidade += 10\n",
        "    print('Voce acelerou! sua velocidade atual é: ', self.velocidade)"
      ],
      "execution_count": 12,
      "outputs": []
    },
    {
      "cell_type": "code",
      "metadata": {
        "id": "z6-0ufNkbOgg",
        "outputId": "bb22aec1-9f69-4a7b-91a8-d1fced4caa62",
        "colab": {
          "base_uri": "https://localhost:8080/",
          "height": 104
        }
      },
      "source": [
        "veiculo1 = Veiculo(4,'branco', 'ford')\n",
        "\n",
        "veiculo1.ligar()\n",
        "veiculo1.acelerar()\n",
        "veiculo1.acelerar()\n",
        "veiculo1.acelerar()\n",
        "veiculo1.desligar()"
      ],
      "execution_count": 14,
      "outputs": [
        {
          "output_type": "stream",
          "text": [
            "O carro ligou! Vruuummm\n",
            "Voce acelerou! sua velocidade atual é:  10\n",
            "Voce acelerou! sua velocidade atual é:  20\n",
            "Voce acelerou! sua velocidade atual é:  30\n",
            "O veiculo desigou\n"
          ],
          "name": "stdout"
        }
      ]
    },
    {
      "cell_type": "code",
      "metadata": {
        "id": "dh_0odq7cPmP",
        "outputId": "ea0f086f-8886-4697-d17b-3a8312215c62",
        "colab": {
          "base_uri": "https://localhost:8080/",
          "height": 34
        }
      },
      "source": [
        "veiculo1.velocidade"
      ],
      "execution_count": 15,
      "outputs": [
        {
          "output_type": "execute_result",
          "data": {
            "text/plain": [
              "30"
            ]
          },
          "metadata": {
            "tags": []
          },
          "execution_count": 15
        }
      ]
    },
    {
      "cell_type": "code",
      "metadata": {
        "id": "kuvFuwj-ce6h"
      },
      "source": [
        "class Moto():\n",
        "  #aqui preciso copiar todos os metodos de veiculo, porque afinal moto e um veiculo certo.\n",
        "  def __init__(self, n_rodas, cor, marca):\n",
        "    Veiculo.__init__(self,n_rodas, cor, marca)\n",
        "    "
      ],
      "execution_count": null,
      "outputs": []
    },
    {
      "cell_type": "markdown",
      "metadata": {
        "id": "10WKYfZbdhpM"
      },
      "source": [
        "Com o python sabe que  Moto é um subconjunto(Subclasse) de veiculo, e que portanto deveria herdar as caracteristicas e metodos da classe pai.\n"
      ]
    },
    {
      "cell_type": "code",
      "metadata": {
        "id": "qSjZSXTxd4Ac"
      },
      "source": [
        "#precisamos pasar como parametro de classe moto a classe veiculo para definir a herança:\n",
        "\n",
        "class Moto(Veiculo):\n",
        "  def __init__(self, n_rodas, cor, marca):\n",
        "    Veiculo.__init__(self, n_rodas, cor, marca)"
      ],
      "execution_count": 16,
      "outputs": []
    },
    {
      "cell_type": "code",
      "metadata": {
        "id": "c2aZHTKbh1Dz",
        "outputId": "8da4d646-e487-4530-be4d-5bc5cfae5f18",
        "colab": {
          "base_uri": "https://localhost:8080/",
          "height": 34
        }
      },
      "source": [
        "moto1 = Moto(2,'preta', 'honda')\n",
        "moto1.cor, moto1.marca, moto1.n_rodas"
      ],
      "execution_count": 17,
      "outputs": [
        {
          "output_type": "execute_result",
          "data": {
            "text/plain": [
              "('preta', 'honda', 2)"
            ]
          },
          "metadata": {
            "tags": []
          },
          "execution_count": 17
        }
      ]
    },
    {
      "cell_type": "code",
      "metadata": {
        "id": "qpXX4ZnxitfQ",
        "outputId": "b22b9f60-a48c-4f28-aff7-46c8e07c1ab4",
        "colab": {
          "base_uri": "https://localhost:8080/",
          "height": 34
        }
      },
      "source": [
        "type(moto1)"
      ],
      "execution_count": 18,
      "outputs": [
        {
          "output_type": "execute_result",
          "data": {
            "text/plain": [
              "__main__.Moto"
            ]
          },
          "metadata": {
            "tags": []
          },
          "execution_count": 18
        }
      ]
    },
    {
      "cell_type": "code",
      "metadata": {
        "id": "8ZhDQr4wixb1",
        "outputId": "95b9caf2-7783-42ec-c2e4-548e13fb7f00",
        "colab": {
          "base_uri": "https://localhost:8080/",
          "height": 34
        }
      },
      "source": [
        "#tambem herdamos os metodos:\n",
        "\n",
        "moto1.ligar()"
      ],
      "execution_count": 19,
      "outputs": [
        {
          "output_type": "stream",
          "text": [
            "O carro ligou! Vruuummm\n"
          ],
          "name": "stdout"
        }
      ]
    },
    {
      "cell_type": "code",
      "metadata": {
        "id": "XBKhkVBri5ZM"
      },
      "source": [
        "moto1.acelerar()\n",
        "moto1.acelerar()"
      ],
      "execution_count": null,
      "outputs": []
    },
    {
      "cell_type": "markdown",
      "metadata": {
        "id": "p3hBmoiAjH5Q"
      },
      "source": [
        "Podemos adicionar alguns metodos que so fazem sentido pra moto, podemos mudar os herdados"
      ]
    },
    {
      "cell_type": "code",
      "metadata": {
        "id": "Yas3hq8OjFo5"
      },
      "source": [
        "class Moto(Veiculo):\n",
        "  def __init__(self, n_rodas,cor,marca):\n",
        "    Veiculo.__init__(self, n_rodas,cor,marca)\n",
        "\n",
        "  #alterando um metodo herdado:\n",
        "  def acelerar(self):\n",
        "    self.velocidade +=5\n",
        "    print('Voce acelerou! Sua velocidade atual é: ', self.velocidade)\n",
        "\n",
        "  #adicionando um metodo apenas em moto\n",
        "  def empinar(self):\n",
        "    print('A moto esta em uma roda so, tome cuidado')"
      ],
      "execution_count": 25,
      "outputs": []
    },
    {
      "cell_type": "code",
      "metadata": {
        "id": "O84r85-ekTaQ",
        "outputId": "9995b490-24ac-4cc9-991b-11d1328a738c",
        "colab": {
          "base_uri": "https://localhost:8080/",
          "height": 34
        }
      },
      "source": [
        "moto2 = Moto(2, 'azul', 'bmw')\n",
        "\n",
        "moto2.cor, moto2.marca, moto2.n_rodas, moto2.velocidade"
      ],
      "execution_count": 26,
      "outputs": [
        {
          "output_type": "execute_result",
          "data": {
            "text/plain": [
              "('azul', 'bmw', 2, 0)"
            ]
          },
          "metadata": {
            "tags": []
          },
          "execution_count": 26
        }
      ]
    },
    {
      "cell_type": "code",
      "metadata": {
        "id": "YX5ikNx4lQAJ",
        "outputId": "28bbcce2-5ab4-4154-c269-81fa55108ebd",
        "colab": {
          "base_uri": "https://localhost:8080/",
          "height": 104
        }
      },
      "source": [
        "moto2.ligar()\n",
        "moto2.acelerar()\n",
        "moto2.acelerar()\n",
        "moto2.acelerar()\n",
        "print(moto2.velocidade)"
      ],
      "execution_count": 27,
      "outputs": [
        {
          "output_type": "stream",
          "text": [
            "O carro ligou! Vruuummm\n",
            "Voce acelerou! Sua velocidade atual é:  5\n",
            "Voce acelerou! Sua velocidade atual é:  10\n",
            "Voce acelerou! Sua velocidade atual é:  15\n",
            "15\n"
          ],
          "name": "stdout"
        }
      ]
    },
    {
      "cell_type": "code",
      "metadata": {
        "id": "SAQFfwtJliA2",
        "outputId": "b956bc96-2c02-4371-f99d-46d3671f1c38",
        "colab": {
          "base_uri": "https://localhost:8080/",
          "height": 34
        }
      },
      "source": [
        "moto2.empinar"
      ],
      "execution_count": 28,
      "outputs": [
        {
          "output_type": "execute_result",
          "data": {
            "text/plain": [
              "<bound method Moto.empinar of <__main__.Moto object at 0x7f9f7e6a2f98>>"
            ]
          },
          "metadata": {
            "tags": []
          },
          "execution_count": 28
        }
      ]
    },
    {
      "cell_type": "code",
      "metadata": {
        "id": "_mVCk9ogllD1"
      },
      "source": [
        "#veiculo não tem modo empinar:\n",
        "veiculo1.acelerar"
      ],
      "execution_count": null,
      "outputs": []
    }
  ]
}