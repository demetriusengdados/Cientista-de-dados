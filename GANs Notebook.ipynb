{
 "cells": [
  {
   "cell_type": "code",
   "execution_count": null,
   "metadata": {},
   "outputs": [],
   "source": [
    "import keras_adversarial"
   ]
  },
  {
   "cell_type": "code",
   "execution_count": null,
   "metadata": {},
   "outputs": [],
   "source": [
    "import matplotlib as mpl\n",
    "mpl.use(\"Agg\")\n",
    "\n",
    "import pandas as pd\n",
    "import numpy as np\n",
    "import os\n",
    "from keras.layers import reshape, Flatten, LeakReLU, Activation\n",
    "from keras.models import sequential\n",
    "from keras.optmizers import Adam\n",
    "from keras.callbacks import TensorBoard\n",
    "from keras_adversarial.keras_adversarial.image_grid_callback import ImageGridCallback\n",
    "from keras_adversarial.keras_adversarial import AdversarialModel, simple_gan, gan_targets\n",
    "from keras_adversarial.keras_adversarial import normal_latent_sampling, AdversarialOptimizerSimultaneous\n",
    "from keras_adversarial.keras_adversarial.legacy import l1l2, Dense, fit\n",
    "import keras.backend as k\n",
    "from keras_adversarial.examples.mnist_utils import mnist_data"
   ]
  },
  {
   "cell_type": "code",
   "execution_count": null,
   "metadata": {},
   "outputs": [],
   "source": [
    "def model_generator(latent_dom, input_shape, hidden_dim=1024, reg=lambda: l1l2(1e-05, 1e-5)):\n",
    "return Sequential([\n",
    "    Dense(int(hidden_dim / 4), name='generator_h1', input_dim= latent_dim, w_regularizer=reg()),\n",
    "    LeakyReLU(0,2),\n",
    "    Dense(int(hidden_dim / 2), name='generator_h2', W_regularizer=reg()).\n",
    "    LeakyReLU(0,2),\n",
    "    Dense(hidden_dim, name='generator_h3', W_regularizer=reg()),\n",
    "    LeakyReLU(0,2),\n",
    "    Dense(np.prod(input_shape), name='generator_x_flat', W_regularizer=reg()),\n",
    "    Actviation('sigmoid'),\n",
    "    Reshape(input_shape, name='generator_x')],\n",
    "    name='generator')"
   ]
  },
  {
   "cell_type": "code",
   "execution_count": null,
   "metadata": {},
   "outputs": [],
   "source": [
    "def model_discriminator(input_shape, hiddeb_dim=1024, reg=lambda: l1l2(1e-5, 1e-5), output_activation='sigmoid'):\n",
    "return Sequential([\n",
    "    Flatten(name='discriminator_flatten', input_shape=input_shape),\n",
    "    Dense(hidden_dim, name='discriminator_h1', W_regularizer=reg()),\n",
    "    LeakReLU(0,2),\n",
    "    Dense(int(hidden_dim / 2), name='discriminator_h2', W_regularizer=reg()),\n",
    "    LeakyReLU(0,2),\n",
    "    Dense(int(hidden_dim / 4), name='discriminator_h3', W_regularizer=reg()),\n",
    "    LeakyReLU(0,2),\n",
    "    Dense(1, name='discriminator_y', W_regularizer=reg()),\n",
    "    Activation(output_activation)],\n",
    "    name='discriminator')"
   ]
  },
  {
   "cell_type": "code",
   "execution_count": null,
   "metadata": {},
   "outputs": [],
   "source": [
    "def example_gan(adversarial_optimizer, path, opt_g, opt_d, nb_epoch, generator, discriminator, latent_dim,\n",
    "               targets=gan_targets, loss='binary_crossentropy'):\n",
    "    csvpath = ps.path.join(path, 'history.csv')\n",
    "    if os.path.exists(csvpath):\n",
    "        print('Already exists: {}'.format(csvpath))\n",
    "        return\n",
    "    \n",
    "    print(\"Training: {}\".format(csvpath))\n",
    "    #gan (x - > yfake, yreal), z generated on GPU\n",
    "    gan = simple_gan(generator, discriminator, normal_latent_sampling((latent_dim)))"
   ]
  },
  {
   "cell_type": "code",
   "execution_count": null,
   "metadata": {},
   "outputs": [],
   "source": [
    "#Printando o sumário dos modelos \n",
    "generator.summary()\n",
    "discriminator.summary()\n",
    "gan.summary()"
   ]
  },
  {
   "cell_type": "code",
   "execution_count": null,
   "metadata": {},
   "outputs": [],
   "source": [
    "#Buildando Modelo Adversarial\n",
    "\n",
    "model = AdversarialModel(base_model=gan,\n",
    "                        players_params=[generator.trainable_weights, discriminator.trainable_weights],\n",
    "                        player_names=['generator', 'discriminator'])\n",
    "model.adversarial_compile(adversarial_optmizer=adversarial_optmizer,\n",
    "                         player_optimizers=[opt_g, opt_d],\n",
    "                         loss=loss)"
   ]
  },
  {
   "cell_type": "code",
   "execution_count": null,
   "metadata": {},
   "outputs": [],
   "source": [
    "#Criando callback para gerar imagens\n",
    "\n",
    "zsamples =  np.random.normal(size=(10 * 10, latent_dim))\n",
    "\n",
    "def generator_smapler():\n",
    "    return generator.predict(zsamples).reshape((10, 10, 28, 28))\n",
    "\n",
    "generator_cb = ImageGridCallback(os.path.join(path, 'epoch-{:03d}.png'), generator_sampler)\n",
    "\n",
    "#treinando o modelo\n",
    "\n",
    "xtrain, xtest = mnist_data()\n",
    "y = targets(xtrain.shape[0])\n",
    "ytest = targets(xtest.shape[0])\n",
    "callbacks = [generator_cb]\n",
    "if k.backend() == \"tensorflow\":\n",
    "    callbacks.append(\n",
    "    TensorBoard(log_dir=os.path.join(path, 'logs'), histogram_freq=0, write_graph=True, write_images=True))\n",
    "history = fit(model, x=xtrain, y=y, validation_data=(xtest, ytest), callback=callbacks, nv_epoch=nb_epoch,\n",
    "             batch_size=32)\n"
   ]
  },
  {
   "cell_type": "code",
   "execution_count": null,
   "metadata": {},
   "outputs": [],
   "source": [
    "#Salvando histroria no CSV\n",
    "\n",
    "df = pd.DataFrame(history.history)\n",
    "df.to_csv(csvpath)\n",
    "\n",
    "#Salvando o modelo\n",
    "\n",
    "generator.save(os.path.join(path, 'generator.h5'))\n",
    "discriminator.save(os.path.join(path, 'discriminator.h5'))"
   ]
  },
  {
   "cell_type": "code",
   "execution_count": null,
   "metadata": {},
   "outputs": [],
   "source": [
    "def main():\n",
    "    # z \\in R^100\n",
    "    latent_dim = 100\n",
    "    # x \\in R^{28x28}\n",
    "    input_shape = (28, 28)\n",
    "    #generator (z -> x)\n",
    "    discriminator = model_discriminator(input_shape)\n",
    "    example_gan(AdversarialOptimizerSimultaneous(), \"output/gan\",\n",
    "               opt_g=Adam(1e-4, decay=1e-4),\n",
    "               opt_d=Adam(1e-3, decay=1e-3),\n",
    "               nb_epoch=10, generator=generator, discriminator=discriminator,\n",
    "               latent_dim=latent_dim)\n",
    "    \n",
    "if __name__ == \"__main__\":\n",
    "    main()"
   ]
  }
 ],
 "metadata": {
  "kernelspec": {
   "display_name": "Python 3",
   "language": "python",
   "name": "python3"
  },
  "language_info": {
   "codemirror_mode": {
    "name": "ipython",
    "version": 3
   },
   "file_extension": ".py",
   "mimetype": "text/x-python",
   "name": "python",
   "nbconvert_exporter": "python",
   "pygments_lexer": "ipython3",
   "version": "3.8.3"
  }
 },
 "nbformat": 4,
 "nbformat_minor": 4
}
