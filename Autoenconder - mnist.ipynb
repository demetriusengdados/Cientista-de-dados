{
 "cells": [
  {
   "cell_type": "code",
   "execution_count": 1,
   "metadata": {},
   "outputs": [],
   "source": [
    "import numpy as np\n",
    "import sklearn\n",
    "from tensorflow import keras\n",
    "import tensorflow as tf\n",
    "from keras.datasets import mnist\n",
    "from matplotlib import pyplot as plt"
   ]
  },
  {
   "cell_type": "code",
   "execution_count": 2,
   "metadata": {},
   "outputs": [
    {
     "name": "stdout",
     "output_type": "stream",
     "text": [
      "Downloading data from https://storage.googleapis.com/tensorflow/tf-keras-datasets/mnist.npz\n",
      "11493376/11490434 [==============================] - 3s 0us/step\n"
     ]
    }
   ],
   "source": [
    "(train_X, train_y), (test_X, test_y) = mnist.load_data()\n",
    "#Aqui a gente não vai usar o y"
   ]
  },
  {
   "cell_type": "code",
   "execution_count": 4,
   "metadata": {},
   "outputs": [
    {
     "name": "stdout",
     "output_type": "stream",
     "text": [
      "(60000, 28, 28)\n",
      "(10000, 28, 28)\n"
     ]
    }
   ],
   "source": [
    "print(train_X.shape)\n",
    "print(test_X.shape)"
   ]
  },
  {
   "cell_type": "code",
   "execution_count": 5,
   "metadata": {},
   "outputs": [
    {
     "name": "stdout",
     "output_type": "stream",
     "text": [
      "3\n"
     ]
    },
    {
     "data": {
      "image/png": "[encoded data removed]",
      "text/plain": [
       "<Figure size 432x288 with 1 Axes>"
      ]
     },
     "metadata": {
      "needs_background": "light"
     },
     "output_type": "display_data"
    }
   ],
   "source": [
    "i = np.random.choice(range(len(train_X)))\n",
    "plt.imshow(train_X[i], cmap = 'gray')\n",
    "print(train_y[i])"
   ]
  },
  {
   "cell_type": "code",
   "execution_count": 6,
   "metadata": {},
   "outputs": [],
   "source": [
    "train_X = train_X.reshape(60000,28,28,1)\n",
    "test_X = test_X.reshape(10000,28,28,1)"
   ]
  },
  {
   "cell_type": "code",
   "execution_count": 13,
   "metadata": {},
   "outputs": [
    {
     "name": "stdout",
     "output_type": "stream",
     "text": [
      "Model: \"sequential_5\"\n",
      "_________________________________________________________________\n",
      "Layer (type)                 Output Shape              Param #   \n",
      "=================================================================\n",
      "conv2d_14 (Conv2D)           (None, 26, 26, 64)        640       \n",
      "_________________________________________________________________\n",
      "max_pooling2d_10 (MaxPooling (None, 13, 13, 64)        0         \n",
      "_________________________________________________________________\n",
      "conv2d_15 (Conv2D)           (None, 11, 11, 32)        18464     \n",
      "_________________________________________________________________\n",
      "conv2d_16 (Conv2D)           (None, 8, 8, 16)          8208      \n",
      "_________________________________________________________________\n",
      "max_pooling2d_11 (MaxPooling (None, 4, 4, 16)          0         \n",
      "_________________________________________________________________\n",
      "conv2d_17 (Conv2D)           (None, 1, 1, 16)          4112      \n",
      "_________________________________________________________________\n",
      "max_pooling2d_12 (MaxPooling (None, 1, 1, 16)          0         \n",
      "_________________________________________________________________\n",
      "dense_3 (Dense)              (None, 1, 1, 1)           17        \n",
      "_________________________________________________________________\n",
      "up_sampling2d_4 (UpSampling2 (None, 14, 14, 1)         0         \n",
      "_________________________________________________________________\n",
      "up_sampling2d_5 (UpSampling2 (None, 28, 28, 1)         0         \n",
      "=================================================================\n",
      "Total params: 31,441\n",
      "Trainable params: 31,441\n",
      "Non-trainable params: 0\n",
      "_________________________________________________________________\n"
     ]
    }
   ],
   "source": [
    "import keras\n",
    "from keras.layers import Input, Dense, Conv2D, MaxPooling2D, UpSampling2D, Dropout, Flatten\n",
    "from keras.models import Sequential\n",
    "\n",
    "model = Sequential()\n",
    "model.add(Input(shape=(28,28,1)))\n",
    "model.add(Conv2D(64, kernel_size=3, activation='relu'))\n",
    "model.add(MaxPooling2D(padding='same'))\n",
    "model.add(Conv2D(32, kernel_size=3, activation='relu'))\n",
    "model.add(Conv2D(16, kernel_size=4, activation='relu'))\n",
    "model.add(MaxPooling2D(padding='same'))\n",
    "#model.add(UpSampling2D())\n",
    "model.add(Conv2D(16, kernel_size=4, activation='relu'))\n",
    "model.add(MaxPooling2D(padding='same'))\n",
    "model.add(Dense(1, activation='softmax'))\n",
    "model.add(UpSampling2D(size=(14,14)))\n",
    "#model.add(Conv2D(16, kernel_size=3, activation='relu'))\n",
    "model.add(UpSampling2D(size=(2,2)))\n",
    "\n",
    "model.summary()"
   ]
  },
  {
   "cell_type": "code",
   "execution_count": 16,
   "metadata": {},
   "outputs": [
    {
     "name": "stdout",
     "output_type": "stream",
     "text": [
      "Epoch 1/10\n",
      "1000/1000 [==============================] - 109s 109ms/step - loss: 7217.3320 - val_loss: 7343.5415\n",
      "Epoch 2/10\n",
      "1000/1000 [==============================] - 110s 110ms/step - loss: 7217.3271 - val_loss: 7343.5415\n",
      "Epoch 3/10\n",
      "1000/1000 [==============================] - 123s 123ms/step - loss: 7217.3311 - val_loss: 7343.5415\n",
      "Epoch 4/10\n",
      "1000/1000 [==============================] - 116s 116ms/step - loss: 7217.3335 - val_loss: 7343.5415\n",
      "Epoch 5/10\n",
      "1000/1000 [==============================] - 114s 114ms/step - loss: 7217.3281 - val_loss: 7343.5415\n",
      "Epoch 6/10\n",
      "1000/1000 [==============================] - 112s 112ms/step - loss: 7217.3296 - val_loss: 7343.5415\n",
      "Epoch 7/10\n",
      "1000/1000 [==============================] - 111s 111ms/step - loss: 7217.3340 - val_loss: 7343.5415\n",
      "Epoch 8/10\n",
      "1000/1000 [==============================] - 110s 110ms/step - loss: 7217.3296 - val_loss: 7343.5415\n",
      "Epoch 9/10\n",
      "1000/1000 [==============================] - 119s 119ms/step - loss: 7217.3320 - val_loss: 7343.5415\n",
      "Epoch 10/10\n",
      "1000/1000 [==============================] - 110s 110ms/step - loss: 7217.3291 - val_loss: 7343.5415\n"
     ]
    },
    {
     "data": {
      "text/plain": [
       "<tensorflow.python.keras.callbacks.History at 0x7f6b580b37f0>"
      ]
     },
     "execution_count": 16,
     "metadata": {},
     "output_type": "execute_result"
    }
   ],
   "source": [
    "model.compile(optimizer = 'rmsprop', loss = 'mse')\n",
    "\n",
    "model.fit(x = train_X, y = train_X, batch_size = 60, epochs = 10, validation_data = (test_X, test_X))"
   ]
  },
  {
   "cell_type": "code",
   "execution_count": 17,
   "metadata": {},
   "outputs": [
    {
     "name": "stdout",
     "output_type": "stream",
     "text": [
      "Epoch 1/20\n",
      "750/750 [==============================] - 119s 159ms/step - loss: 7217.3281 - val_loss: 7343.5430\n",
      "Epoch 2/20\n",
      "750/750 [==============================] - 136s 181ms/step - loss: 7217.3301 - val_loss: 7343.5430\n",
      "Epoch 3/20\n",
      "750/750 [==============================] - 129s 172ms/step - loss: 7217.3291 - val_loss: 7343.5430\n",
      "Epoch 4/20\n",
      "750/750 [==============================] - 106s 141ms/step - loss: 7217.3311 - val_loss: 7343.5430\n",
      "Epoch 5/20\n",
      "750/750 [==============================] - 106s 141ms/step - loss: 7217.3306 - val_loss: 7343.5430\n",
      "Epoch 6/20\n",
      "750/750 [==============================] - 135s 180ms/step - loss: 7217.3320 - val_loss: 7343.5430\n",
      "Epoch 7/20\n",
      "750/750 [==============================] - 103s 138ms/step - loss: 7217.3306 - val_loss: 7343.5430\n",
      "Epoch 8/20\n",
      "750/750 [==============================] - 108s 144ms/step - loss: 7217.3286 - val_loss: 7343.5430\n",
      "Epoch 9/20\n",
      "750/750 [==============================] - 111s 148ms/step - loss: 7217.3281 - val_loss: 7343.5430\n",
      "Epoch 10/20\n",
      "750/750 [==============================] - 107s 143ms/step - loss: 7217.3340 - val_loss: 7343.5430\n",
      "Epoch 11/20\n",
      "750/750 [==============================] - 125s 166ms/step - loss: 7217.3286 - val_loss: 7343.5430\n",
      "Epoch 12/20\n",
      "750/750 [==============================] - 104s 139ms/step - loss: 7217.3311 - val_loss: 7343.5430\n",
      "Epoch 13/20\n",
      "750/750 [==============================] - 126s 168ms/step - loss: 7217.3271 - val_loss: 7343.5430\n",
      "Epoch 14/20\n",
      "750/750 [==============================] - 128s 171ms/step - loss: 7217.3291 - val_loss: 7343.5430\n",
      "Epoch 15/20\n",
      "750/750 [==============================] - 109s 145ms/step - loss: 7217.3262 - val_loss: 7343.5430\n",
      "Epoch 16/20\n",
      "750/750 [==============================] - 105s 140ms/step - loss: 7217.3315 - val_loss: 7343.5430\n",
      "Epoch 17/20\n",
      "750/750 [==============================] - 105s 140ms/step - loss: 7217.3286 - val_loss: 7343.5430\n",
      "Epoch 18/20\n",
      "750/750 [==============================] - 106s 141ms/step - loss: 7217.3296 - val_loss: 7343.5430\n",
      "Epoch 19/20\n",
      "750/750 [==============================] - 119s 159ms/step - loss: 7217.3335 - val_loss: 7343.5430\n",
      "Epoch 20/20\n",
      "750/750 [==============================] - 106s 141ms/step - loss: 7217.3291 - val_loss: 7343.5430\n"
     ]
    },
    {
     "data": {
      "text/plain": [
       "<tensorflow.python.keras.callbacks.History at 0x7f6b38137100>"
      ]
     },
     "execution_count": 17,
     "metadata": {},
     "output_type": "execute_result"
    }
   ],
   "source": [
    "model.fit(x = train_X, y = train_X, batch_size = 80, epochs = 20, validation_data = (test_X, test_X))"
   ]
  },
  {
   "cell_type": "code",
   "execution_count": null,
   "metadata": {},
   "outputs": [],
   "source": [
    "model.fit(x = train_X, y = train_X, batch_size = 15, epochs = 15, verbose = 2, validation_split = 0.1)"
   ]
  },
  {
   "cell_type": "code",
   "execution_count": null,
   "metadata": {},
   "outputs": [],
   "source": [
    "model.save('Autoencoder.h5')"
   ]
  },
  {
   "cell_type": "code",
   "execution_count": null,
   "metadata": {},
   "outputs": [],
   "source": [
    "pred_X_train = model.predict(train_X)\n",
    "pred_X_test = model.predict(test_X)"
   ]
  },
  {
   "cell_type": "code",
   "execution_count": null,
   "metadata": {},
   "outputs": [],
   "source": [
    "i = np.random.choice(range(len(train_X)))\n",
    "plt.imshow(pred_X_train[i].reshape(28,28), cmap = 'gray')\n",
    "print(train_y[i])"
   ]
  },
  {
   "cell_type": "code",
   "execution_count": null,
   "metadata": {},
   "outputs": [],
   "source": [
    "i = np.random.choice(range(len(test_X)))\n",
    "plt.imshow(pred_X_train[i].reshape(28,28), cmap = 'gray')\n",
    "print(train_y[i])"
   ]
  },
  {
   "cell_type": "code",
   "execution_count": null,
   "metadata": {},
   "outputs": [],
   "source": []
  }
 ],
 "metadata": {
  "kernelspec": {
   "display_name": "Python 3",
   "language": "python",
   "name": "python3"
  },
  "language_info": {
   "codemirror_mode": {
    "name": "ipython",
    "version": 3
   },
   "file_extension": ".py",
   "mimetype": "text/x-python",
   "name": "python",
   "nbconvert_exporter": "python",
   "pygments_lexer": "ipython3",
   "version": "3.8.3"
  }
 },
 "nbformat": 4,
 "nbformat_minor": 4
}
