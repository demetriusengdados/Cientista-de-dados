{
  "nbformat": 4,
  "nbformat_minor": 0,
  "metadata": {
    "colab": {
      "name": "Numpy.ipynb",
      "provenance": []
    },
    "kernelspec": {
      "name": "python3",
      "display_name": "Python 3"
    }
  },
  "cells": [
    {
      "cell_type": "markdown",
      "metadata": {
        "id": "Gn2ChiSRka-V"
      },
      "source": [
        "Numpy\n",
        "\n",
        "Aula 1\n",
        "\n",
        "Conceito de Array:\n",
        "\n",
        "Numpy oferece uma estrutura de dados poderosa chamada NDarray. Um objeto NDarray combina indexação de maneira a mapear cada item para um bloco de memoria.\n",
        "\n",
        "Podemos pensar num array como sendo uma tabela de elementos, que possuem o mesmo tipo e que são indexados por uma tupla de inteiros positivos que são as dimensões do array. \n",
        "\n"
      ]
    },
    {
      "cell_type": "code",
      "metadata": {
        "id": "FyJ8ol3AkPAn"
      },
      "source": [
        "#np é uma forma padrão utilizada para o alias do numpy. Usando o np fazemos: np.método()\n",
        "\n",
        "import numpy as np"
      ],
      "execution_count": 1,
      "outputs": []
    },
    {
      "cell_type": "code",
      "metadata": {
        "id": "R2yCNi1SmeU8",
        "outputId": "51d75ca4-2550-476b-d1a3-8227575d4175",
        "colab": {
          "base_uri": "https://localhost:8080/",
          "height": 35
        }
      },
      "source": [
        "#verificando a versão da biblioteca numpy instalada pelo anaconda:\n",
        "\n",
        "np.__version__"
      ],
      "execution_count": 3,
      "outputs": [
        {
          "output_type": "execute_result",
          "data": {
            "application/vnd.google.colaboratory.intrinsic+json": {
              "type": "string"
            },
            "text/plain": [
              "'1.18.5'"
            ]
          },
          "metadata": {
            "tags": []
          },
          "execution_count": 3
        }
      ]
    },
    {
      "cell_type": "markdown",
      "metadata": {
        "id": "yHwiPjjvmuGg"
      },
      "source": [
        "Criando um array"
      ]
    },
    {
      "cell_type": "code",
      "metadata": {
        "id": "qsnspiALmeZj"
      },
      "source": [
        "# A maneira mais facil de criar um numpy array é primeiramente criar uma lista e depois converter para um array:\n",
        "\n",
        "lista = [1,2,3,4,5]\n",
        "\n",
        "primeiro_array = np.array(lista)"
      ],
      "execution_count": 4,
      "outputs": []
    },
    {
      "cell_type": "code",
      "metadata": {
        "id": "3rLlONudmeb_",
        "outputId": "fcc08097-3068-4a63-d595-fa94d1fd556f",
        "colab": {
          "base_uri": "https://localhost:8080/"
        }
      },
      "source": [
        "primeiro_array"
      ],
      "execution_count": 5,
      "outputs": [
        {
          "output_type": "execute_result",
          "data": {
            "text/plain": [
              "array([1, 2, 3, 4, 5])"
            ]
          },
          "metadata": {
            "tags": []
          },
          "execution_count": 5
        }
      ]
    },
    {
      "cell_type": "code",
      "metadata": {
        "id": "Xn_TCpr6meey",
        "outputId": "45b3786b-6f7f-4dc8-ade2-bc134b0e6450",
        "colab": {
          "base_uri": "https://localhost:8080/"
        }
      },
      "source": [
        "type(primeiro_array)"
      ],
      "execution_count": 6,
      "outputs": [
        {
          "output_type": "execute_result",
          "data": {
            "text/plain": [
              "numpy.ndarray"
            ]
          },
          "metadata": {
            "tags": []
          },
          "execution_count": 6
        }
      ]
    },
    {
      "cell_type": "code",
      "metadata": {
        "id": "WH1k73SemehJ",
        "outputId": "09ba12c8-8d05-4b1c-9065-55fc2b77c78c",
        "colab": {
          "base_uri": "https://localhost:8080/"
        }
      },
      "source": [
        "#Poderiamos fazer diretamente na função:\n",
        "np.array([0,0,3,3,4])"
      ],
      "execution_count": 7,
      "outputs": [
        {
          "output_type": "execute_result",
          "data": {
            "text/plain": [
              "array([0, 0, 3, 3, 4])"
            ]
          },
          "metadata": {
            "tags": []
          },
          "execution_count": 7
        }
      ]
    },
    {
      "cell_type": "code",
      "metadata": {
        "id": "gqCFYNhqnXG4",
        "outputId": "c07be326-ccfd-48a0-b67a-add604c8b4a1",
        "colab": {
          "base_uri": "https://localhost:8080/"
        }
      },
      "source": [
        "#estrutura cujos elementos possuem o mesmo tipo de dados:\n",
        "np.array([0,0,\"oi\",3,4])"
      ],
      "execution_count": 8,
      "outputs": [
        {
          "output_type": "execute_result",
          "data": {
            "text/plain": [
              "array(['0', '0', 'oi', '3', '4'], dtype='<U21')"
            ]
          },
          "metadata": {
            "tags": []
          },
          "execution_count": 8
        }
      ]
    },
    {
      "cell_type": "markdown",
      "metadata": {
        "id": "rBdu-4m-nqY4"
      },
      "source": [
        "Função shape/ndim"
      ]
    },
    {
      "cell_type": "code",
      "metadata": {
        "id": "RDyk5jFEnXP9",
        "outputId": "fcdc46e3-521c-4f08-f8df-5724a5a5e88c",
        "colab": {
          "base_uri": "https://localhost:8080/"
        }
      },
      "source": [
        "# O atributo shape retorna uma tupla que consiste nas dimensões do array - nesse caso 1 só\n",
        "print(primeiro_array)\n",
        "primeiro_array.shape"
      ],
      "execution_count": 9,
      "outputs": [
        {
          "output_type": "stream",
          "text": [
            "[1 2 3 4 5]\n"
          ],
          "name": "stdout"
        },
        {
          "output_type": "execute_result",
          "data": {
            "text/plain": [
              "(5,)"
            ]
          },
          "metadata": {
            "tags": []
          },
          "execution_count": 9
        }
      ]
    },
    {
      "cell_type": "code",
      "metadata": {
        "id": "zaF_qGTrnXT6"
      },
      "source": [
        "#Vamos criar um array bidimensional, Lembrando que a função array espera receber um \"array-like\" (array, lista...)\n",
        "\n",
        "bid_array = np.array([[1,2,3],[4,5,6]])"
      ],
      "execution_count": 13,
      "outputs": []
    },
    {
      "cell_type": "code",
      "metadata": {
        "id": "-bNmVT5xnXYi",
        "outputId": "ce37fefb-9a5d-4588-9e73-b3accddde77b",
        "colab": {
          "base_uri": "https://localhost:8080/"
        }
      },
      "source": [
        "print(primeiro_array.ndim)\n",
        "print(bid_array.ndim)"
      ],
      "execution_count": 15,
      "outputs": [
        {
          "output_type": "stream",
          "text": [
            "1\n",
            "2\n"
          ],
          "name": "stdout"
        }
      ]
    },
    {
      "cell_type": "code",
      "metadata": {
        "id": "jNRkuQM0mej2",
        "outputId": "8ad2d996-1505-4fca-d052-6f8a30292ed1",
        "colab": {
          "base_uri": "https://localhost:8080/"
        }
      },
      "source": [
        "bid_array"
      ],
      "execution_count": 16,
      "outputs": [
        {
          "output_type": "execute_result",
          "data": {
            "text/plain": [
              "array([[1, 2, 3],\n",
              "       [4, 5, 6]])"
            ]
          },
          "metadata": {
            "tags": []
          },
          "execution_count": 16
        }
      ]
    },
    {
      "cell_type": "code",
      "metadata": {
        "id": "5fULIlummemd",
        "outputId": "f5c6465e-295a-4895-f516-b52784ff2a8d",
        "colab": {
          "base_uri": "https://localhost:8080/"
        }
      },
      "source": [
        "# Esse 2Darray possui 2 linhas e 3 colunas.\n",
        "#Eu tenho 2 elementos no array e cada um deles tem comprimento 3 e como a tupla tem duas entradas dizemos que o \n",
        "#array é bidimensional\n",
        "\n",
        "bid_array.shape"
      ],
      "execution_count": 17,
      "outputs": [
        {
          "output_type": "execute_result",
          "data": {
            "text/plain": [
              "(2, 3)"
            ]
          },
          "metadata": {
            "tags": []
          },
          "execution_count": 17
        }
      ]
    },
    {
      "cell_type": "code",
      "metadata": {
        "id": "b1YI2rwFptRR",
        "outputId": "94cbab9e-9ebb-4101-b6bc-c4ad58f0d1b6",
        "colab": {
          "base_uri": "https://localhost:8080/"
        }
      },
      "source": [
        "#Vamos construir um array agora tridimensional: (poderiamos ter usado np.zeros!)\n",
        "\n",
        "tri_dim = np.ones((3,3,3))\n",
        "tri_dim.shape"
      ],
      "execution_count": 18,
      "outputs": [
        {
          "output_type": "execute_result",
          "data": {
            "text/plain": [
              "(3, 3, 3)"
            ]
          },
          "metadata": {
            "tags": []
          },
          "execution_count": 18
        }
      ]
    },
    {
      "cell_type": "code",
      "metadata": {
        "id": "0XdNVHxmptb6",
        "outputId": "19d36b29-be2f-4502-9249-1f42cd071b11",
        "colab": {
          "base_uri": "https://localhost:8080/"
        }
      },
      "source": [
        "tri_dim"
      ],
      "execution_count": 19,
      "outputs": [
        {
          "output_type": "execute_result",
          "data": {
            "text/plain": [
              "array([[[1., 1., 1.],\n",
              "        [1., 1., 1.],\n",
              "        [1., 1., 1.]],\n",
              "\n",
              "       [[1., 1., 1.],\n",
              "        [1., 1., 1.],\n",
              "        [1., 1., 1.]],\n",
              "\n",
              "       [[1., 1., 1.],\n",
              "        [1., 1., 1.],\n",
              "        [1., 1., 1.]]])"
            ]
          },
          "metadata": {
            "tags": []
          },
          "execution_count": 19
        }
      ]
    },
    {
      "cell_type": "code",
      "metadata": {
        "id": "S_2D05-uptgc",
        "outputId": "c3424598-e6c3-4cd5-95fa-4c6d3a33057d",
        "colab": {
          "base_uri": "https://localhost:8080/"
        }
      },
      "source": [
        "#Verificando a dimensão do array:\n",
        "\n",
        "tri_dim.ndim"
      ],
      "execution_count": 20,
      "outputs": [
        {
          "output_type": "execute_result",
          "data": {
            "text/plain": [
              "3"
            ]
          },
          "metadata": {
            "tags": []
          },
          "execution_count": 20
        }
      ]
    },
    {
      "cell_type": "markdown",
      "metadata": {
        "id": "nLMd5IUerNxZ"
      },
      "source": [
        "Reshape"
      ]
    },
    {
      "cell_type": "code",
      "metadata": {
        "id": "Aw9QPDJTptZP",
        "outputId": "9d8f0b25-c842-44a7-d9f0-799fec6b6c33",
        "colab": {
          "base_uri": "https://localhost:8080/"
        }
      },
      "source": [
        "#Alteramos o shape dos dados - remodelamos o array\n",
        "\n",
        "a = np.arange(16)\n",
        "print(a)\n",
        "print('-------' * 7)\n",
        "a = a.reshape((4, 4))\n",
        "print(a)"
      ],
      "execution_count": 27,
      "outputs": [
        {
          "output_type": "stream",
          "text": [
            "[ 0  1  2  3  4  5  6  7  8  9 10 11 12 13 14 15]\n",
            "-------------------------------------------------\n",
            "[[ 0  1  2  3]\n",
            " [ 4  5  6  7]\n",
            " [ 8  9 10 11]\n",
            " [12 13 14 15]]\n"
          ],
          "name": "stdout"
        }
      ]
    },
    {
      "cell_type": "code",
      "metadata": {
        "id": "lJshWushptWr",
        "outputId": "954b9736-4773-4078-fdf2-7ec0efc854dc",
        "colab": {
          "base_uri": "https://localhost:8080/"
        }
      },
      "source": [
        "#Vocês verão nos proximos módulos que as funções reshape(-1, 1) e reshape(1, -1) são muito utilizados:\n",
        "\n",
        "b = np.array([0,0,3])\n",
        "print(\"Antes do reshape:\", b.shape)\n",
        "\n",
        "#sempre que colocamos o reshape(-1, 1) ou (1, -1) a dimensão que já colocamos -1 se mantém e adicionamos uma nova dimensão\n",
        "\n",
        "print(\"Após reshape (-1, 1): \", b.reshape(-1, 1).shape)\n",
        "\n",
        "b = b.reshape(1, -1)\n",
        "print(\"Após o reshape (1, -1): \", b.shape)"
      ],
      "execution_count": 25,
      "outputs": [
        {
          "output_type": "stream",
          "text": [
            "Antes do reshape: (3,)\n",
            "Após reshape (-1, 1):  (3, 1)\n",
            "Após o reshape (1, -1):  (1, 3)\n"
          ],
          "name": "stdout"
        }
      ]
    },
    {
      "cell_type": "markdown",
      "metadata": {
        "id": "bfd6bDpluAOI"
      },
      "source": [
        "Operadores"
      ]
    },
    {
      "cell_type": "code",
      "metadata": {
        "id": "Vhpeq6ZeptU8",
        "outputId": "69eb3c03-e7c5-44e5-a309-38d8a4405e55",
        "colab": {
          "base_uri": "https://localhost:8080/"
        }
      },
      "source": [
        "#As operações efetuadas para todos os de array:\n",
        "\n",
        "arr = np.array([9,0,8,6,1])\n",
        "\n",
        "print(arr+10)\n",
        "print(arr*10)\n",
        "print(arr/2)\n",
        "print('-----------------------')\n",
        "\n",
        "#Em listas funciona diferente:\n",
        "lista = [1,4,6,8]\n",
        "print(lista*2)"
      ],
      "execution_count": 28,
      "outputs": [
        {
          "output_type": "stream",
          "text": [
            "[19 10 18 16 11]\n",
            "[90  0 80 60 10]\n",
            "[4.5 0.  4.  3.  0.5]\n",
            "-----------------------\n",
            "[1, 4, 6, 8, 1, 4, 6, 8]\n"
          ],
          "name": "stdout"
        }
      ]
    },
    {
      "cell_type": "markdown",
      "metadata": {
        "id": "zqXCExkHu5GE"
      },
      "source": [
        "Função Sort"
      ]
    },
    {
      "cell_type": "code",
      "metadata": {
        "id": "TFGAqspku32H",
        "outputId": "ae6d11bc-5f18-46f8-d8fb-f834299c2465",
        "colab": {
          "base_uri": "https://localhost:8080/"
        }
      },
      "source": [
        "#Função sort é usada para ordenar os elementos do array. Usamos muito esse tipo de função quando por exemplo,\n",
        "#queremos saber qual modelo nos deu a maior assertividade, nesses casos, basta ordenar pela coluna assertividade.\n",
        "\n",
        "print('Desordenado', arr)\n",
        "\n",
        "arr_sorted = np.sort(arr)\n",
        "\n",
        "print('Ordenado', arr_sorted)"
      ],
      "execution_count": 29,
      "outputs": [
        {
          "output_type": "stream",
          "text": [
            "Desordenado [9 0 8 6 1]\n",
            "Ordenado [0 1 6 8 9]\n"
          ],
          "name": "stdout"
        }
      ]
    },
    {
      "cell_type": "code",
      "metadata": {
        "id": "F0KMSobiu341",
        "outputId": "22a777ed-8a2d-48db-ae7d-f2090b5593ec",
        "colab": {
          "base_uri": "https://localhost:8080/"
        }
      },
      "source": [
        "#No caso de termos arrays bidimensionais, podemos fazer a ordenação por alguma de suas dimensões:\n",
        "\n",
        "arr1_bdim = np.array([[9,5,3],[5,6,1]])\n",
        "print(arr1_bdim)\n",
        "\n",
        "#ordenando por lista\n",
        "print(\"\\n ordenando por linha:\\n\", np.sort(arr1_bdim, axis = 1))\n",
        "\n",
        "#ordenando por coluna\n",
        "print(\"\\n ordenando por coluna:\\n\", np.sort(arr1_bdim, axis = 0))"
      ],
      "execution_count": 30,
      "outputs": [
        {
          "output_type": "stream",
          "text": [
            "[[9 5 3]\n",
            " [5 6 1]]\n",
            "\n",
            " ordenando por linha:\n",
            " [[3 5 9]\n",
            " [1 5 6]]\n",
            "\n",
            " ordenando por coluna:\n",
            " [[5 5 1]\n",
            " [9 6 3]]\n"
          ],
          "name": "stdout"
        }
      ]
    },
    {
      "cell_type": "markdown",
      "metadata": {
        "id": "ITEF15NCxJd6"
      },
      "source": [
        "Iterando arrays"
      ]
    },
    {
      "cell_type": "code",
      "metadata": {
        "id": "KbPILGbOu37v",
        "outputId": "98027868-ed7e-4a95-9c1d-0a67d96e1505",
        "colab": {
          "base_uri": "https://localhost:8080/"
        }
      },
      "source": [
        "for i in arr:\n",
        "  print(i)\n",
        "\n",
        "#podemos usar list comprehension - criação de uma lista baseada em lista(arrays) exeistentes.\n",
        "\n",
        "lista_do_arr = [i for i in arr]; lista_do_arr"
      ],
      "execution_count": 31,
      "outputs": [
        {
          "output_type": "stream",
          "text": [
            "9\n",
            "0\n",
            "8\n",
            "6\n",
            "1\n"
          ],
          "name": "stdout"
        },
        {
          "output_type": "execute_result",
          "data": {
            "text/plain": [
              "[9, 0, 8, 6, 1]"
            ]
          },
          "metadata": {
            "tags": []
          },
          "execution_count": 31
        }
      ]
    },
    {
      "cell_type": "code",
      "metadata": {
        "id": "1PxJtaS5u4Au",
        "outputId": "6ce703a1-7bb6-49a7-82e7-f5a3291a03b4",
        "colab": {
          "base_uri": "https://localhost:8080/"
        }
      },
      "source": [
        "#No caso dos arrays bidimensionais, se rodarmos apenas um for, rodamos o numero de elementos (linhas) do array:\n",
        "for x in arr1_bdim:\n",
        "  print(x)\n",
        "  print('-----------------')\n",
        "\n",
        "\n",
        "#No caso dos arrays bidimensionais, se rodarmos apenas um for, rodamos o numero de elementos(linhas) do array:\n",
        "\n",
        "for x in arr1_bdim:\n",
        "  for y in x:\n",
        "    print(y)"
      ],
      "execution_count": 34,
      "outputs": [
        {
          "output_type": "stream",
          "text": [
            "[9 5 3]\n",
            "-----------------\n",
            "[5 6 1]\n",
            "-----------------\n",
            "9\n",
            "5\n",
            "3\n",
            "5\n",
            "6\n",
            "1\n"
          ],
          "name": "stdout"
        }
      ]
    },
    {
      "cell_type": "markdown",
      "metadata": {
        "id": "gd1fNfvLyIJI"
      },
      "source": [
        "Arange/Linspace/Random"
      ]
    },
    {
      "cell_type": "code",
      "metadata": {
        "id": "BkhBaLJMu4F7",
        "outputId": "fd17efba-14f5-4df4-e8c5-f95a255813c3",
        "colab": {
          "base_uri": "https://localhost:8080/"
        }
      },
      "source": [
        "#Além das listas existem outras maneiras comuns de criar arrays unidimensionais:\n",
        "\n",
        "#Arange: Passamos o valor inicial(incluso), o valor final (não incluso) e o tamanho do passo:\n",
        "\n",
        "arr1 = np.arange(10,20,2)\n",
        "print(arr1)\n",
        "print('********************')\n",
        "\n",
        "#Linspace: Se em vez de especificar o passso quisermos especificar o numero de elementos da sequencia:\n",
        "\n",
        "lins1 = np.linspace(10,20,5)\n",
        "print(lins1)\n",
        "print('********************')"
      ],
      "execution_count": 33,
      "outputs": [
        {
          "output_type": "stream",
          "text": [
            "[10 12 14 16 18]\n",
            "********************\n",
            "[10.  12.5 15.  17.5 20. ]\n",
            "********************\n"
          ],
          "name": "stdout"
        }
      ]
    },
    {
      "cell_type": "markdown",
      "metadata": {
        "id": "8XesX0_806ax"
      },
      "source": [
        "Função Random"
      ]
    },
    {
      "cell_type": "code",
      "metadata": {
        "id": "o-Si7mO6u4JJ",
        "outputId": "24aae99c-597c-409d-f01b-b9ab998d470d",
        "colab": {
          "base_uri": "https://localhost:8080/"
        }
      },
      "source": [
        "#Random.random: criar uma array com numeros aleatorios no intervalo entre 0 e 1(muito util para amostragem)\n",
        "\n",
        "random_arr = np.random.random(10)\n",
        "print(random_arr)\n",
        "print('*****************')\n",
        "\n",
        "#Random.randint: cria uma array com numeros aleatorios inteiros(ou pode gerar apenas um numero inteiro)\n",
        "\n",
        "random_int = np.random.randint(0,10, size = 3)\n",
        "print(random_int)\n",
        "print('*****************')\n",
        "\n",
        "random_int_1 = np.random.randint(0,10)\n",
        "print(random_int_1)\n",
        "print('*****************')"
      ],
      "execution_count": 35,
      "outputs": [
        {
          "output_type": "stream",
          "text": [
            "[0.48559818 0.18143996 0.17963046 0.86048707 0.36294602 0.34900092\n",
            " 0.51519521 0.84362324 0.25024674 0.10505998]\n",
            "*****************\n",
            "[8 8 3]\n",
            "*****************\n",
            "8\n",
            "*****************\n"
          ],
          "name": "stdout"
        }
      ]
    },
    {
      "cell_type": "code",
      "metadata": {
        "id": "f-9-kNpgu4N4",
        "outputId": "2c569ea8-271a-4ea5-9500-7f42f1fdce20",
        "colab": {
          "base_uri": "https://localhost:8080/"
        }
      },
      "source": [
        "#Random.choice: gera numero/lista aleatorio baseado nos valores do array de entrada(muito util para amostragem)\n",
        "\n",
        "print(arr)\n",
        "print('-----------------')\n",
        "print(np.random.choice(arr))\n",
        "\n",
        "print('-----------------')\n",
        "print(np.random.choice(arr, size = 3))\n",
        "\n",
        "#Função muito util para criarmos amostras aleatorias com repetição ou sem repetição (repeat = true/false)"
      ],
      "execution_count": 37,
      "outputs": [
        {
          "output_type": "stream",
          "text": [
            "[9 0 8 6 1]\n",
            "-----------------\n",
            "6\n",
            "-----------------\n",
            "[1 9 6]\n"
          ],
          "name": "stdout"
        }
      ]
    },
    {
      "cell_type": "code",
      "metadata": {
        "id": "KscP_Cs0u4Qw",
        "outputId": "e3f410f4-232b-4b78-c75d-1093327f0196",
        "colab": {
          "base_uri": "https://localhost:8080/",
          "height": 265
        }
      },
      "source": [
        "x = np.random.normal(loc=1, scale=2, size=1000) #gera 1000 numeros aleatorios vindos de uma distribuição normal\n",
        "#loc = média\n",
        "#scale = desvio padrão (2 desvios: 95% dos dados)\n",
        "\n",
        "import matplotlib.pyplot as plt\n",
        "\n",
        "plt.hist(x)\n",
        "plt.show()"
      ],
      "execution_count": 38,
      "outputs": [
        {
          "output_type": "display_data",
          "data": {
            "image/png": "[encoded data removed]",
            "text/plain": [
              "<Figure size 432x288 with 1 Axes>"
            ]
          },
          "metadata": {
            "tags": [],
            "needs_background": "light"
          }
        }
      ]
    },
    {
      "cell_type": "markdown",
      "metadata": {
        "id": "_imoJvD94g7r"
      },
      "source": [
        "Indexação"
      ]
    },
    {
      "cell_type": "code",
      "metadata": {
        "id": "_kK-qH6Su4Th",
        "outputId": "ea796609-1fc5-4782-a3a3-8c2d25e5d3d3",
        "colab": {
          "base_uri": "https://localhost:8080/"
        }
      },
      "source": [
        "#Através dos índices, acessamos elementos de um array unidimensional assim como nas listas:\n",
        "\n",
        "print(arr)\n",
        "\n",
        "primeiro_elemento = arr[0]\n",
        "terceiro_elemento = arr[2]\n",
        "\n",
        "print(primeiro_elemento)\n",
        "\n",
        "print(terceiro_elemento)"
      ],
      "execution_count": 39,
      "outputs": [
        {
          "output_type": "stream",
          "text": [
            "[9 0 8 6 1]\n",
            "9\n",
            "8\n"
          ],
          "name": "stdout"
        }
      ]
    },
    {
      "cell_type": "code",
      "metadata": {
        "id": "2Ns6kCUYu4Ls",
        "outputId": "d6e0743b-ba7f-45d8-8532-e60a9ffeb559",
        "colab": {
          "base_uri": "https://localhost:8080/"
        }
      },
      "source": [
        "#Para acessar elementos em arrays bidimensionais, precisamos passar dois parametros: indice da linha e da coluna\n",
        "\n",
        "arr_bidim = np.array([[1,4,5], [9,9,8]])\n",
        "\n",
        "print(arr_bidim)"
      ],
      "execution_count": 41,
      "outputs": [
        {
          "output_type": "stream",
          "text": [
            "[[1 4 5]\n",
            " [9 9 8]]\n"
          ],
          "name": "stdout"
        }
      ]
    },
    {
      "cell_type": "code",
      "metadata": {
        "id": "EMlBMNQMu4D8",
        "outputId": "8acf58e3-6a2b-4791-bb1a-bf27aae5082b",
        "colab": {
          "base_uri": "https://localhost:8080/"
        }
      },
      "source": [
        "#terceiro elemento da segunda linha:\n",
        "arr_bidim[1,2] # array[linha, coluna]"
      ],
      "execution_count": 44,
      "outputs": [
        {
          "output_type": "execute_result",
          "data": {
            "text/plain": [
              "8"
            ]
          },
          "metadata": {
            "tags": []
          },
          "execution_count": 44
        }
      ]
    },
    {
      "cell_type": "code",
      "metadata": {
        "id": "LdZpgbBou3_F",
        "outputId": "600e8d5c-168a-4ceb-e86d-490bf18c290f",
        "colab": {
          "base_uri": "https://localhost:8080/"
        }
      },
      "source": [
        "arr_bidim[1][2]"
      ],
      "execution_count": 43,
      "outputs": [
        {
          "output_type": "execute_result",
          "data": {
            "text/plain": [
              "8"
            ]
          },
          "metadata": {
            "tags": []
          },
          "execution_count": 43
        }
      ]
    },
    {
      "cell_type": "markdown",
      "metadata": {
        "id": "GYDlSx6u56V5"
      },
      "source": [
        "Slicing\n",
        "\n",
        "Podemos 'fatiar' os arrays, selecionando elementos especificos, assim como fazem com as listas da seguinte maneira: **array[inicio:fim]**, sendo inicio incluso e o fim não incluso. Caso não passemos o inicio ele começara do 0 e caso não passemos o fim ele irá até o fim do array, ou seja o ultimo elemento."
      ]
    },
    {
      "cell_type": "code",
      "metadata": {
        "id": "g3wkS2kc6JNw",
        "outputId": "3a56b10f-e0b2-4250-cf3f-92674d2f3c30",
        "colab": {
          "base_uri": "https://localhost:8080/"
        }
      },
      "source": [
        "#No caso unidimensional \n",
        "\n",
        "print(arr)\n",
        "\n",
        "#Todos os elementos a partir do elemento cujo indice é 2\n",
        "print('--------------------------------')\n",
        "print(arr[2:])\n",
        "\n",
        "#Todos os elementos até o elemento cujo indice é 4 (lembre-se que o elemento 4 não é incluso)\n",
        "print('--------------------------------')\n",
        "print(arr[:4])\n",
        "\n",
        "#todos os elementos entre a 2 e 5 posição\n",
        "print('--------------------------------')\n",
        "print(arr[2:5])"
      ],
      "execution_count": 47,
      "outputs": [
        {
          "output_type": "stream",
          "text": [
            "[9 0 8 6 1]\n",
            "--------------------------------\n",
            "[8 6 1]\n",
            "--------------------------------\n",
            "[9 0 8 6]\n",
            "--------------------------------\n",
            "[8 6 1]\n"
          ],
          "name": "stdout"
        }
      ]
    },
    {
      "cell_type": "code",
      "metadata": {
        "id": "grusfmpi6u6b",
        "outputId": "2d878c11-b6dd-439c-8cc3-7dda00a8e3a4",
        "colab": {
          "base_uri": "https://localhost:8080/"
        }
      },
      "source": [
        "# No caso bidimensional\n",
        "\n",
        "print(arr_bidim)\n",
        "\n",
        "#todas as linhas da coluna 1\n",
        "\n",
        "print('--------------------------')\n",
        "print(arr_bidim[ : ,1])\n",
        "\n",
        "#todas as colunas linha 0:\n",
        "print('--------------------------')\n",
        "print(arr_bidim[0, : ])\n",
        "\n",
        "#todas as linhas da coluna 1 até 3:\n",
        "print('--------------------------')\n",
        "print(arr_bidim[ :,1:3])"
      ],
      "execution_count": 48,
      "outputs": [
        {
          "output_type": "stream",
          "text": [
            "[[1 4 5]\n",
            " [9 9 8]]\n",
            "--------------------------\n",
            "[4 9]\n",
            "--------------------------\n",
            "[1 4 5]\n",
            "--------------------------\n",
            "[[4 5]\n",
            " [9 8]]\n"
          ],
          "name": "stdout"
        }
      ]
    },
    {
      "cell_type": "markdown",
      "metadata": {
        "id": "-zGhmmEhOwML"
      },
      "source": [
        "Filtrando Valores"
      ]
    },
    {
      "cell_type": "code",
      "metadata": {
        "id": "BC1VQHjo6vAF",
        "outputId": "2338f840-8031-4056-dd06-fd38b11d108c",
        "colab": {
          "base_uri": "https://localhost:8080/"
        }
      },
      "source": [
        "# o slicing já nos ajuda a filtrar 'pedaços' de informações \n",
        "# podemos ainda fazer alguns filtros passando como parametro um array booleano:\n",
        "\n",
        "print(arr)\n",
        "\n",
        "condicao = arr % 2 == 0 #(resto da divisão por 2 é igual a 0)\n",
        "\n",
        "print(condicao)"
      ],
      "execution_count": 49,
      "outputs": [
        {
          "output_type": "stream",
          "text": [
            "[9 0 8 6 1]\n",
            "[False  True  True  True False]\n"
          ],
          "name": "stdout"
        }
      ]
    },
    {
      "cell_type": "code",
      "metadata": {
        "id": "G3ect2Ws6vFk",
        "outputId": "45bec680-c813-4003-84be-25f1801ac465",
        "colab": {
          "base_uri": "https://localhost:8080/"
        }
      },
      "source": [
        "arr[condicao]"
      ],
      "execution_count": 51,
      "outputs": [
        {
          "output_type": "execute_result",
          "data": {
            "text/plain": [
              "array([0, 8, 6])"
            ]
          },
          "metadata": {
            "tags": []
          },
          "execution_count": 51
        }
      ]
    },
    {
      "cell_type": "code",
      "metadata": {
        "id": "anWG4PUl6vPl",
        "outputId": "e3a88818-fb87-4497-ee90-63ed7cd3e576",
        "colab": {
          "base_uri": "https://localhost:8080/"
        }
      },
      "source": [
        "arr[arr>6]"
      ],
      "execution_count": 52,
      "outputs": [
        {
          "output_type": "execute_result",
          "data": {
            "text/plain": [
              "array([9, 8])"
            ]
          },
          "metadata": {
            "tags": []
          },
          "execution_count": 52
        }
      ]
    },
    {
      "cell_type": "markdown",
      "metadata": {
        "id": "ps3UFmH0Qlh7"
      },
      "source": [
        "Função Where"
      ]
    },
    {
      "cell_type": "code",
      "metadata": {
        "id": "9G00ArUN6vND",
        "outputId": "fb5b9808-45da-4ce0-9afa-1b324e8cbb49",
        "colab": {
          "base_uri": "https://localhost:8080/"
        }
      },
      "source": [
        "#Usamos a função where para encontrar elementos que satisfaçam uma condição x e podemos alterar por exemplo,\n",
        "# os elementos que não satisfazem. Veja os exemplos:\n",
        "\n",
        "print(arr)\n",
        "\n",
        "#np.where(arr < 7, arr-1)\n",
        "\n",
        "print(\"\\n Se o elemento é menor que 7, retorna ele mesmo, se não retorna o valor -1:\", np.where(arr < 7,arr,-1))"
      ],
      "execution_count": 55,
      "outputs": [
        {
          "output_type": "stream",
          "text": [
            "[9 0 8 6 1]\n",
            "\n",
            " Se o elemento é menor que 7, retorna ele mesmo, se não retorna o valor -1: [-1  0 -1  6  1]\n"
          ],
          "name": "stdout"
        }
      ]
    },
    {
      "cell_type": "code",
      "metadata": {
        "id": "eRK_UKSw6vKa",
        "outputId": "38ddd782-1063-4d45-8976-8f59e2f308b0",
        "colab": {
          "base_uri": "https://localhost:8080/"
        }
      },
      "source": [
        "#Se o elemento satisfaz a condição retorna 1 se não retorna o valor -1:\n",
        "\n",
        "np.where(arr < 7,1,-1)"
      ],
      "execution_count": 56,
      "outputs": [
        {
          "output_type": "execute_result",
          "data": {
            "text/plain": [
              "array([-1,  1, -1,  1,  1])"
            ]
          },
          "metadata": {
            "tags": []
          },
          "execution_count": 56
        }
      ]
    },
    {
      "cell_type": "code",
      "metadata": {
        "id": "8wROHpXI6vJB"
      },
      "source": [
        ""
      ],
      "execution_count": null,
      "outputs": []
    },
    {
      "cell_type": "code",
      "metadata": {
        "id": "hHyKDdkC6vDc"
      },
      "source": [
        ""
      ],
      "execution_count": null,
      "outputs": []
    },
    {
      "cell_type": "code",
      "metadata": {
        "id": "W5VUnJXJ6u9l"
      },
      "source": [
        ""
      ],
      "execution_count": null,
      "outputs": []
    }
  ]
}