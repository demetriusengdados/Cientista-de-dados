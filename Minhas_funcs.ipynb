{
  "nbformat": 4,
  "nbformat_minor": 0,
  "metadata": {
    "colab": {
      "name": "Minhas funcs.ipynb",
      "provenance": []
    },
    "kernelspec": {
      "name": "python3",
      "display_name": "Python 3"
    }
  },
  "cells": [
    {
      "cell_type": "code",
      "metadata": {
        "id": "EOejBoHCg-M0"
      },
      "source": [
        "#load minhas_funcs.py\n",
        "#import funcs as f.\n",
        "def soma(x,y):\n",
        "  return x+y\n",
        "\n",
        "def multiplica(x,y):\n",
        "  return x*y\n",
        "\n",
        "def encontra_max_lista(lista):\n",
        "  return max(lista)\n",
        "\n",
        "def verifica_se_e_par(x):\n",
        "  if x % 2 == 0:\n",
        "    print(x, 'é par')"
      ],
      "execution_count": null,
      "outputs": []
    }
  ]
}