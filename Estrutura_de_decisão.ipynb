{
  "nbformat": 4,
  "nbformat_minor": 0,
  "metadata": {
    "colab": {
      "name": "Estrutura de decisão.ipynb",
      "provenance": []
    },
    "kernelspec": {
      "name": "python3",
      "display_name": "Python 3"
    }
  },
  "cells": [
    {
      "cell_type": "code",
      "metadata": {
        "id": "9S9QyPTKy4UY",
        "outputId": "d6b9b469-7fb6-406f-bb00-aa3fd7d174e7",
        "colab": {
          "base_uri": "https://localhost:8080/",
          "height": 86
        }
      },
      "source": [
        "idade = int(input(\"Qual sua idade? \"))\n",
        "\n",
        "#Identação:\n",
        "if idade >= 18:\n",
        "  print('Idade digitada', idade)\n",
        "  print('Voce ja pode tirar sua carteira de motorista!')\n",
        "  print('Parabéns')"
      ],
      "execution_count": 1,
      "outputs": [
        {
          "output_type": "stream",
          "text": [
            "Qual sua idade? 30\n",
            "Idade digitada 30\n",
            "Voce ja pode tirar sua carteira de motorista!\n",
            "Parabéns\n"
          ],
          "name": "stdout"
        }
      ]
    },
    {
      "cell_type": "code",
      "metadata": {
        "id": "C7C_PJ-7-9pJ",
        "outputId": "3eee0fc7-daad-43c2-e867-4881e9ebcfad",
        "colab": {
          "base_uri": "https://localhost:8080/",
          "height": 86
        }
      },
      "source": [
        "idade = int(input('Qual sua idade: '))\n",
        "visao = str(input('Voce enxerga bem '))\n",
        "\n",
        "if idade >= 18 and visao == 'sim':\n",
        "  print('Voce ja pode tirar sua habilitação')\n",
        "  print('Parabens')\n"
      ],
      "execution_count": 6,
      "outputs": [
        {
          "output_type": "stream",
          "text": [
            "Qual sua idade: 30\n",
            "Voce enxerga bem sim\n",
            "Voce ja pode tirar sua habilitação\n",
            "Parabens\n"
          ],
          "name": "stdout"
        }
      ]
    },
    {
      "cell_type": "code",
      "metadata": {
        "id": "xUSf9GTr_bTP",
        "outputId": "1dfc4764-34e8-4d28-9c6e-feebbdfaa77a",
        "colab": {
          "base_uri": "https://localhost:8080/",
          "height": 86
        }
      },
      "source": [
        "#EX; Suponha qye criamos um programa para um supermercado. O usuario tem que ser capaz de conseguir pesquisar\n",
        "#se um produto está disponivel em estoque.\n",
        "produtos_disponiveis = ['arroz', 'feijão', 'farinha', 'banana', 'leite']\n",
        "produtos = input('Qual voce procura? ')\n",
        "\n",
        "if produtos in produtos_disponiveis:\n",
        "  print('Produto disponivel em estoque: ) ')\n",
        "  print('Corre enquanto da tempo')\n",
        "  print('Agradeçemos a preferencia')"
      ],
      "execution_count": 8,
      "outputs": [
        {
          "output_type": "stream",
          "text": [
            "Qual voce procura? arroz\n",
            "Produto disponivel em estoque: ) \n",
            "Corre enquanto da tempo\n",
            "Agradeçemos a preferencia\n"
          ],
          "name": "stdout"
        }
      ]
    },
    {
      "cell_type": "code",
      "metadata": {
        "id": "eblY2w3NASV8"
      },
      "source": [
        "#EX suponha que no app do banco o usuario quer fazer um saque. Para isso precisamos ver se ele tem o dinheiro\n",
        "#e se tiver vamos liberar o saque e atualizar o saldo dele."
      ],
      "execution_count": null,
      "outputs": []
    },
    {
      "cell_type": "code",
      "metadata": {
        "id": "YvJrFokvAi_R",
        "outputId": "49533098-34b1-41d6-faba-5ab9e1786256",
        "colab": {
          "base_uri": "https://localhost:8080/",
          "height": 52
        }
      },
      "source": [
        "saldo = 1000\n",
        "valor_saque = 75\n",
        "\n",
        "if saldo >= valor_saque:\n",
        "  print(f'o valor de {valor_saque}, foi sacado com sucesso')\n",
        "  saldo = saldo - valor_saque #operação dentro do if\n",
        "  print(f'Seu novo saldo é {saldo}')"
      ],
      "execution_count": 4,
      "outputs": [
        {
          "output_type": "stream",
          "text": [
            "o valor de 75, foi sacado com sucesso\n",
            "Seu novo saldo é 925\n"
          ],
          "name": "stdout"
        }
      ]
    },
    {
      "cell_type": "code",
      "metadata": {
        "id": "KbdMHeaRBkKZ"
      },
      "source": [
        "nota = 5\n",
        "if not >= 7:\n",
        "  print('Aprovado')\n",
        "else:\n",
        "  print('Reprovado')"
      ],
      "execution_count": null,
      "outputs": []
    },
    {
      "cell_type": "code",
      "metadata": {
        "id": "OumeP6NwBxgA",
        "outputId": "41676bf3-da46-435f-f558-a72d017f07aa",
        "colab": {
          "base_uri": "https://localhost:8080/",
          "height": 34
        }
      },
      "source": [
        "#suponha que para ser aprovado precisamos ter frequencia >= 80% e nota >=7.\n",
        "\n",
        "nota = 9\n",
        "frequencia = 77\n",
        "\n",
        "if nota >= 7 and frequencia >= 80:\n",
        "  print('Aprovado')\n",
        "else:\n",
        "  print('Reprovado')"
      ],
      "execution_count": 9,
      "outputs": [
        {
          "output_type": "stream",
          "text": [
            "Reprovado\n"
          ],
          "name": "stdout"
        }
      ]
    },
    {
      "cell_type": "code",
      "metadata": {
        "id": "tFG6QfNrCw1B"
      },
      "source": [
        ""
      ],
      "execution_count": null,
      "outputs": []
    },
    {
      "cell_type": "code",
      "metadata": {
        "id": "I9y1G3U9C4jA",
        "outputId": "dfd05c30-3eab-4bef-ccea-92de119b62a5",
        "colab": {
          "base_uri": "https://localhost:8080/",
          "height": 34
        }
      },
      "source": [
        "#suponha que para ser aprovado precisamos ter frequencia >= 80% e nota >=7.\n",
        "\n",
        "nota = 9\n",
        "frequencia = 77\n",
        "\n",
        "if nota >= 7 or frequencia >= 80:\n",
        "  print('Aprovado')\n",
        "else:\n",
        "  print('Reprovado')"
      ],
      "execution_count": 10,
      "outputs": [
        {
          "output_type": "stream",
          "text": [
            "Aprovado\n"
          ],
          "name": "stdout"
        }
      ]
    },
    {
      "cell_type": "code",
      "metadata": {
        "id": "ynU4VFpeC88K",
        "outputId": "c2745094-8ddc-44a6-d736-a2dd580f5664",
        "colab": {
          "base_uri": "https://localhost:8080/",
          "height": 34
        }
      },
      "source": [
        "#considere o seguinte: Se o aluno tiver nota >= 7 já está aprovado. Se não, ele tiver frequencia >= 80\n",
        "#ele fica em exame. se ele não tiver nenhum dos dois ele esta reprovado.\n",
        "\n",
        "nota = 5\n",
        "frequencia = 77\n",
        "\n",
        "if nota >= 7:\n",
        "  print('Aprovado')\n",
        "else:\n",
        "  if frequencia >= 80:\n",
        "    print('Em exame')\n",
        "  else:\n",
        "    print('Reprovado')"
      ],
      "execution_count": 11,
      "outputs": [
        {
          "output_type": "stream",
          "text": [
            "Reprovado\n"
          ],
          "name": "stdout"
        }
      ]
    },
    {
      "cell_type": "code",
      "metadata": {
        "id": "jP7dMw1fDtby",
        "outputId": "b7cc58a6-703a-4b81-bbbb-17550fcf8c42",
        "colab": {
          "base_uri": "https://localhost:8080/",
          "height": 34
        }
      },
      "source": [
        "#usando o elif\n",
        "nota = 6\n",
        "frequencia = 85\n",
        "if nota >= 7:\n",
        "  print('Aprovado')\n",
        "elif nota >= 6 and frequencia >= 80:\n",
        "  print('Em exame')\n",
        "else:\n",
        "  print('Voce não veio as aulas e tem nota baixa, está reprovado')\n",
        "  "
      ],
      "execution_count": 12,
      "outputs": [
        {
          "output_type": "stream",
          "text": [
            "Em exame\n"
          ],
          "name": "stdout"
        }
      ]
    }
  ]
}