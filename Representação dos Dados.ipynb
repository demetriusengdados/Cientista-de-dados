{
 "cells": [
  {
   "cell_type": "markdown",
   "metadata": {},
   "source": [
    "Representação de Dados"
   ]
  },
  {
   "cell_type": "markdown",
   "metadata": {},
   "source": [
    "Muitas vezes, é de interesse aprender uma maneira mais sucinta de representar seus dados"
   ]
  },
  {
   "cell_type": "markdown",
   "metadata": {},
   "source": [
    "Essa representação pode ser \"lossy\" ou \"lossless\"\n",
    "\n",
    "Ex: compressão de arquivos"
   ]
  },
  {
   "cell_type": "markdown",
   "metadata": {},
   "source": [
    "Mas mais legal do que comprimir arquivos e reproduzi-los depois perfeitamente ou imperfeitamente é aprender o processo de geração de dos seus dados. Conhecer o mecanismo de geração de dados é sempre o nosso objetivo com inferẽncia;"
   ]
  },
  {
   "cell_type": "markdown",
   "metadata": {},
   "source": [
    "Modelo Generativo"
   ]
  },
  {
   "cell_type": "markdown",
   "metadata": {},
   "source": [
    "Ao invés de ser um modelo classificador, ou que faz regressão etc, é um modelo que gera dados."
   ]
  },
  {
   "cell_type": "markdown",
   "metadata": {},
   "source": [
    "Você treina com dados reais e espera que ela aprenda a distribuição dos dados reais para gerar mais observações dessa distribuição."
   ]
  },
  {
   "cell_type": "markdown",
   "metadata": {},
   "source": [
    "Eles ja foram usadas para:\n",
    "\n",
    "* Gerar imagens de rostos humanos\n",
    "* Criar fotos realisticas \n",
    "* Fazer edição de imagens. Ex: de-raining\n",
    "* Fazer \"super-resolution\" de imagens \n",
    "* Colorir fotos articialmente\n",
    "* Fazer transição entre musicas\n",
    "* Fazer interpolação de frames em animações"
   ]
  }
 ],
 "metadata": {
  "kernelspec": {
   "display_name": "Python 3",
   "language": "python",
   "name": "python3"
  },
  "language_info": {
   "codemirror_mode": {
    "name": "ipython",
    "version": 3
   },
   "file_extension": ".py",
   "mimetype": "text/x-python",
   "name": "python",
   "nbconvert_exporter": "python",
   "pygments_lexer": "ipython3",
   "version": "3.8.3"
  }
 },
 "nbformat": 4,
 "nbformat_minor": 4
}
