{
  "nbformat": 4,
  "nbformat_minor": 0,
  "metadata": {
    "colab": {
      "name": "Estrutura de repetição.ipynb",
      "provenance": []
    },
    "kernelspec": {
      "name": "python3",
      "display_name": "Python 3"
    }
  },
  "cells": [
    {
      "cell_type": "code",
      "metadata": {
        "id": "bRwN_4e9EmoV"
      },
      "source": [
        "#for variavel_iter em sequencia:\n",
        "# bloco de codigo"
      ],
      "execution_count": null,
      "outputs": []
    },
    {
      "cell_type": "code",
      "metadata": {
        "id": "eC21b2NGH136",
        "outputId": "95de229a-942b-4626-c736-e86a2ced9cc5",
        "colab": {
          "base_uri": "https://localhost:8080/",
          "height": 104
        }
      },
      "source": [
        "# podemos iterar em listas (precisa ser um objeto iteravel):\n",
        "# roda um numero fixo de vezes nesse caso 5:\n",
        "for num in range(1, 10, 2): #vai de um 1 a 10 contando de 2 em 2\n",
        "  print(num)"
      ],
      "execution_count": 3,
      "outputs": [
        {
          "output_type": "stream",
          "text": [
            "1\n",
            "3\n",
            "5\n",
            "7\n",
            "9\n"
          ],
          "name": "stdout"
        }
      ]
    },
    {
      "cell_type": "code",
      "metadata": {
        "id": "qx09so7aIfxG",
        "outputId": "3279a590-3e94-4ad7-f882-5b48b9632c38",
        "colab": {
          "base_uri": "https://localhost:8080/",
          "height": 121
        }
      },
      "source": [
        "#podemos iterar em strings\n",
        "for letra in 'Python':\n",
        "  print(letra)"
      ],
      "execution_count": 4,
      "outputs": [
        {
          "output_type": "stream",
          "text": [
            "P\n",
            "y\n",
            "t\n",
            "h\n",
            "o\n",
            "n\n"
          ],
          "name": "stdout"
        }
      ]
    },
    {
      "cell_type": "code",
      "metadata": {
        "id": "Fs4tfj7qIqGd",
        "outputId": "c29ef5ee-cbbb-498a-8a88-29e9e28f989b",
        "colab": {
          "base_uri": "https://localhost:8080/",
          "height": 34
        }
      },
      "source": [
        "#podemos iterar em dicionario:\n",
        "dic_aluno_nota = {'Maria': 7.5, 'João': 9, 'Pedro': 6, 'Mariana': 10, 'Paulo': 6.5}\n",
        "\n",
        "#podemos ver a nota de um unico aluno fazendo\n",
        "print(dic_aluno_nota['Maria'])"
      ],
      "execution_count": 5,
      "outputs": [
        {
          "output_type": "stream",
          "text": [
            "7.5\n"
          ],
          "name": "stdout"
        }
      ]
    },
    {
      "cell_type": "code",
      "metadata": {
        "id": "WE-OjjGpJXku",
        "outputId": "3e6f1645-8ffe-49d4-f68b-040d1c9378ed",
        "colab": {
          "base_uri": "https://localhost:8080/",
          "height": 104
        }
      },
      "source": [
        "#para analisarmos a nota de todos os alunos nao faz sentido escrevermos esse codigo acima varias vezes\n",
        "#usamos um loop for para isso\n",
        "#duas variaveis iteradoras , a chave e o valor\n",
        "for aluno, nota in dic_aluno_nota.items():\n",
        "  print(aluno,':', nota)"
      ],
      "execution_count": 6,
      "outputs": [
        {
          "output_type": "stream",
          "text": [
            "Maria : 7.5\n",
            "João : 9\n",
            "Pedro : 6\n",
            "Mariana : 10\n",
            "Paulo : 6.5\n"
          ],
          "name": "stdout"
        }
      ]
    },
    {
      "cell_type": "code",
      "metadata": {
        "id": "AAqOA6d1J6lh"
      },
      "source": [
        "#podemos combinar o loop for com a estrutura if-else para termos codigos ainda mais poderosos.\n",
        "\n",
        "alunos_reprovados = {}\n",
        "alunos_aprovados = {}\n",
        "\n",
        "for aluno, nota in dic_aluno_nota.items():\n",
        "  if nota < 7:\n",
        "    alunos_reprovados.update({aluno:nota})\n",
        "  else:\n",
        "    alunos_aprovados.update({aluno:nota})"
      ],
      "execution_count": 8,
      "outputs": []
    },
    {
      "cell_type": "code",
      "metadata": {
        "id": "6I9hcidEKrgh",
        "outputId": "3fd88c58-be83-4caa-90ee-b6c7754e7ac5",
        "colab": {
          "base_uri": "https://localhost:8080/",
          "height": 34
        }
      },
      "source": [
        "alunos_aprovados"
      ],
      "execution_count": 9,
      "outputs": [
        {
          "output_type": "execute_result",
          "data": {
            "text/plain": [
              "{'João': 9, 'Maria': 7.5, 'Mariana': 10}"
            ]
          },
          "metadata": {
            "tags": []
          },
          "execution_count": 9
        }
      ]
    },
    {
      "cell_type": "code",
      "metadata": {
        "id": "7JYbhRqwKtoR",
        "outputId": "b34262aa-3d50-41b5-e3ab-7cb044e4ff98",
        "colab": {
          "base_uri": "https://localhost:8080/",
          "height": 34
        }
      },
      "source": [
        "alunos_reprovados"
      ],
      "execution_count": 10,
      "outputs": [
        {
          "output_type": "execute_result",
          "data": {
            "text/plain": [
              "{'Paulo': 6.5, 'Pedro': 6}"
            ]
          },
          "metadata": {
            "tags": []
          },
          "execution_count": 10
        }
      ]
    },
    {
      "cell_type": "markdown",
      "metadata": {
        "id": "0nuVFmCDLEnj"
      },
      "source": [
        "Alterar execução de loop\n",
        "Podemos alterar a execução do loop com break ou continue"
      ]
    },
    {
      "cell_type": "code",
      "metadata": {
        "id": "c9hfmmYJLOOW",
        "outputId": "0eaab6d1-444c-49df-bd7a-7ac5251105b1",
        "colab": {
          "base_uri": "https://localhost:8080/",
          "height": 132
        }
      },
      "source": [
        "#break usado para sair de um loop(para o loop), não importando o estado em que se encontra.\n",
        "\n",
        "11 = range(1, 50, 2)\n",
        "12 = range(1, 50, 1)\n",
        "\n",
        "for i,j in zip(11,12):\n",
        "  if i*j > 100:\n",
        "    break\n",
        "  else:\n",
        "    print('i * j é:', i*j)\n",
        "print('Aqui o loop já parou')\n",
        "print('Os proximos i e j seriam:',(i,j))"
      ],
      "execution_count": 16,
      "outputs": [
        {
          "output_type": "error",
          "ename": "SyntaxError",
          "evalue": "ignored",
          "traceback": [
            "\u001b[0;36m  File \u001b[0;32m\"<ipython-input-16-38ac8b2d83ec>\"\u001b[0;36m, line \u001b[0;32m3\u001b[0m\n\u001b[0;31m    11 = range(1, 50, 2)\u001b[0m\n\u001b[0m                        ^\u001b[0m\n\u001b[0;31mSyntaxError\u001b[0m\u001b[0;31m:\u001b[0m can't assign to literal\n"
          ]
        }
      ]
    },
    {
      "cell_type": "code",
      "metadata": {
        "id": "sKHs3BDvMdnO"
      },
      "source": [
        "#continue: AO invés de parar o loop, ele faz com que todo o codigo que esteja\n",
        "#abaixo seja ignorado e avança para a próxima iteração\n",
        "l1 = range(1, 50, 1)\n",
        "\n",
        "for i in l1:\n",
        "  if (i % 2 == 0):\n",
        "    print('Esse numero é par: ',i)\n",
        "  else:\n",
        "    continue\n"
      ],
      "execution_count": null,
      "outputs": []
    }
  ]
}