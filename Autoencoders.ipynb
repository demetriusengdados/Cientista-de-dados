{
 "cells": [
  {
   "cell_type": "markdown",
   "metadata": {},
   "source": [
    "Autoencoders"
   ]
  },
  {
   "cell_type": "markdown",
   "metadata": {},
   "source": [
    "'Latente' = 'escondido'\n",
    "\n",
    "Espaço latente:\n",
    "\n",
    "Representação de dados comprimidos. É o 'código' no desenho do slide anterior. "
   ]
  },
  {
   "cell_type": "markdown",
   "metadata": {},
   "source": [
    "A área de Representation Learning foca em aprender boas representações dos dados com as quais a gente consiga recuperar as features dos dados originais."
   ]
  },
  {
   "cell_type": "markdown",
   "metadata": {},
   "source": [
    "Vizualiação de espaço latentes:\n",
    "\n",
    "1: Se um espaço latente tem dimensão 1,2 ou 3, nós conseguimos botar ele \"direto\" em um plot\n",
    "2: Caso a dimensão seja >3, podemos usar algoritmos de vizualização como o t-SNE"
   ]
  },
  {
   "cell_type": "markdown",
   "metadata": {},
   "source": [
    "t-SNE\n",
    "\n",
    "O t-distributed Stochastic Neighbor Embedding é um jeito bem comum de vizualizar dados com dimensão > 3."
   ]
  },
  {
   "cell_type": "markdown",
   "metadata": {},
   "source": [
    "Ele calcula a similaridade entre observações no espaço de dimensão alta, e monta uma vizualização em 2D ou 3D que mantenha essa similaridade entre as observações."
   ]
  },
  {
   "cell_type": "markdown",
   "metadata": {},
   "source": [
    "Isso é feito iterativamente, usando gradiente descendente: a cada iteração ele procura aproximar a distribuição (através de da divergência de KL) das similaridades no espaço altamente dimensional da distribuição das similaridades no espaço bi ou tridimensional."
   ]
  },
  {
   "cell_type": "markdown",
   "metadata": {},
   "source": [
    "No Python ele é implementado dentro do sklearn: sklearn.manifold.TSNE"
   ]
  }
 ],
 "metadata": {
  "kernelspec": {
   "display_name": "Python 3",
   "language": "python",
   "name": "python3"
  },
  "language_info": {
   "codemirror_mode": {
    "name": "ipython",
    "version": 3
   },
   "file_extension": ".py",
   "mimetype": "text/x-python",
   "name": "python",
   "nbconvert_exporter": "python",
   "pygments_lexer": "ipython3",
   "version": "3.8.3"
  }
 },
 "nbformat": 4,
 "nbformat_minor": 4
}
